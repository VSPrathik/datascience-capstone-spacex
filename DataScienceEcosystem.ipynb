{
 "cells": [
  {
   "cell_type": "markdown",
   "id": "d5e51bc2-1a27-4296-a45d-c454d1306200",
   "metadata": {},
   "source": [
    "#H1 Data Science Tools and Ecosystem"
   ]
  },
  {
   "cell_type": "markdown",
   "id": "9724dcc9-fe20-42cd-a2ba-27407f8747ac",
   "metadata": {},
   "source": [
    "In this notebook,Data Science Tools and Ecosystem are summarized."
   ]
  },
  {
   "cell_type": "markdown",
   "id": "d38e43fb-b6fd-498c-aeee-574b4e8fd510",
   "metadata": {},
   "source": [
    "<b>Objectives</b>\n",
    "- python\n",
    "- R\n",
    "- Mysql\n",
    "- Java."
   ]
  },
  {
   "cell_type": "markdown",
   "id": "76795a3e-a868-411b-ade6-37bc37d03a72",
   "metadata": {},
   "source": [
    "some of the popular languages that Data Scientists use are:\n",
    "1.python\n",
    "2.R\n",
    "3.MySQL\n",
    "4.Java"
   ]
  },
  {
   "cell_type": "markdown",
   "id": "9328fe1e-d2e3-4f6d-a293-f652fc871034",
   "metadata": {},
   "source": [
    "Some of the commonly used libraries used by Data Scientists include:\n",
    "1.Matplotlib\n",
    "2.keras\n",
    "3.Scipy\n",
    "4.TensorFlow"
   ]
  },
  {
   "cell_type": "markdown",
   "id": "d4f49aaf-a0d7-4ada-bcb6-83964ec6e278",
   "metadata": {},
   "source": [
    "| Data Science Tools |\n",
    "| -------------------|\n",
    "|        knime       |\n",
    "|      hadoop        |\n",
    "| Jupyter notebook   |\n",
    "|         Tableau    |\n"
   ]
  },
  {
   "cell_type": "markdown",
   "id": "4bb02149-9e6f-4aa3-bc94-c2ae9a5913d1",
   "metadata": {},
   "source": [
    "### Below are a few examples of evaluating arithmetic expressions in Python"
   ]
  },
  {
   "cell_type": "code",
   "execution_count": 1,
   "id": "212f1b10-c319-4445-9804-8942f9dad21f",
   "metadata": {},
   "outputs": [
    {
     "data": {
      "text/plain": [
       "17"
      ]
     },
     "execution_count": 1,
     "metadata": {},
     "output_type": "execute_result"
    }
   ],
   "source": [
    "# This a simple arithmetic expression to mutiply then add integers\n",
    "(3*4)+5"
   ]
  },
  {
   "cell_type": "code",
   "execution_count": 3,
   "id": "81e21835-ae56-45ad-b2f1-bf2de0a23019",
   "metadata": {},
   "outputs": [
    {
     "data": {
      "text/plain": [
       "3.3333333333333335"
      ]
     },
     "execution_count": 3,
     "metadata": {},
     "output_type": "execute_result"
    }
   ],
   "source": [
    "# This will convert 200 minutes to hours by diving by 60\n",
    "(200/60)"
   ]
  },
  {
   "cell_type": "markdown",
   "id": "6fccdfad-4f96-4589-a2f7-6246e6e9f08d",
   "metadata": {},
   "source": [
    "## Author\n",
    "sathya prathik"
   ]
  }
 ],
 "metadata": {
  "kernelspec": {
   "display_name": "Python 3 (ipykernel)",
   "language": "python",
   "name": "python3"
  },
  "language_info": {
   "codemirror_mode": {
    "name": "ipython",
    "version": 3
   },
   "file_extension": ".py",
   "mimetype": "text/x-python",
   "name": "python",
   "nbconvert_exporter": "python",
   "pygments_lexer": "ipython3",
   "version": "3.11.7"
  }
 },
 "nbformat": 4,
 "nbformat_minor": 5
}
