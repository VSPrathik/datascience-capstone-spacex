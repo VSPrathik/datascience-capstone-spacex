{
 "cells": [
  {
   "cell_type": "code",
   "execution_count": 108,
   "id": "b25988b4-ab56-488f-a607-6dfcef0c3098",
   "metadata": {},
   "outputs": [
    {
     "ename": "NameError",
     "evalue": "name 'msft' is not defined",
     "output_type": "error",
     "traceback": [
      "\u001b[0;31m---------------------------------------------------------------------------\u001b[0m",
      "\u001b[0;31mNameError\u001b[0m                                 Traceback (most recent call last)",
      "Cell \u001b[0;32mIn[108], line 3\u001b[0m\n\u001b[1;32m      1\u001b[0m \u001b[38;5;28;01mimport\u001b[39;00m \u001b[38;5;21;01myfinance\u001b[39;00m \u001b[38;5;28;01mas\u001b[39;00m \u001b[38;5;21;01myf\u001b[39;00m\n\u001b[1;32m      2\u001b[0m msfit\u001b[38;5;241m=\u001b[39myf\u001b[38;5;241m.\u001b[39mTicker(\u001b[38;5;124m\"\u001b[39m\u001b[38;5;124mMSFT\u001b[39m\u001b[38;5;124m\"\u001b[39m)\n\u001b[0;32m----> 3\u001b[0m msft_data \u001b[38;5;241m=\u001b[39m msft\u001b[38;5;241m.\u001b[39mhistory(period\u001b[38;5;241m=\u001b[39m\u001b[38;5;124m\"\u001b[39m\u001b[38;5;124mmax\u001b[39m\u001b[38;5;124m\"\u001b[39m)\n\u001b[1;32m      4\u001b[0m msft_data\u001b[38;5;241m.\u001b[39mhead()\n",
      "\u001b[0;31mNameError\u001b[0m: name 'msft' is not defined"
     ]
    }
   ],
   "source": [
    "import yfinance as yf\n",
    "msfit=yf.Ticker(\"MSFT\")\n",
    "msft_data = msft.history(period=\"max\")\n",
    "msft_data.head()\n"
   ]
  },
  {
   "cell_type": "code",
   "execution_count": null,
   "id": "f0539d6d-b0fc-4a27-9d5e-5cdea12d5576",
   "metadata": {},
   "outputs": [],
   "source": [
    "pip install yfinance==0.2.4"
   ]
  },
  {
   "cell_type": "code",
   "execution_count": null,
   "id": "6a9f8cac-0451-4c90-8bf2-4471eb3f1087",
   "metadata": {},
   "outputs": [],
   "source": [
    "import yfinance as yf\n",
    "import pandas as pd"
   ]
  },
  {
   "cell_type": "code",
   "execution_count": null,
   "id": "b910d50b-7b14-4c79-8b91-7cf0286d7f9a",
   "metadata": {},
   "outputs": [],
   "source": [
    "msfit=yf.Ticker(\"MSFT\")\n",
    "msft_data = msft.history(period=\"max\")\n",
    "msft_data.head()\n"
   ]
  },
  {
   "cell_type": "code",
   "execution_count": null,
   "id": "5916595a-597d-4a76-8590-e8108b6596cc",
   "metadata": {},
   "outputs": [],
   "source": [
    "import json\n",
    "with open('apple.json') as json_file:\n",
    "    apple_info = json.load(json_file)\n",
    "    # Print the type of data variable    \n",
    "    #print(\"Type:\", type(apple_info))\n",
    "apple_info"
   ]
  },
  {
   "cell_type": "code",
   "execution_count": null,
   "id": "b476231d-00f9-4aae-ae45-0ad0a3ceca58",
   "metadata": {},
   "outputs": [],
   "source": [
    "apple = yf.Ticker(\"AAPL\")"
   ]
  },
  {
   "cell_type": "code",
   "execution_count": null,
   "id": "db8d1b72-9227-492e-8ddf-a967430f9b4b",
   "metadata": {},
   "outputs": [],
   "source": [
    "import json\n",
    "with open('apple.json') as json_file:\n",
    "    apple_info = json.load(json_file)\n",
    "    # Print the type of data variable    \n",
    "    #print(\"Type:\", type(apple_info))\n",
    "apple_info"
   ]
  },
  {
   "cell_type": "code",
   "execution_count": null,
   "id": "eb493ff0-32bb-411a-a5d8-642b4f1a6908",
   "metadata": {},
   "outputs": [],
   "source": [
    "import yfinance as yf\n",
    "# Download historical data for a stock\n",
    "msft = yf.Ticker(\"MSFT\")\n",
    "msft_data = msft.history(period=\"20y\")\n",
    "# Display the downloaded data\n",
    "msft_data.head()"
   ]
  },
  {
   "cell_type": "code",
   "execution_count": null,
   "id": "02807ab4-9117-44c8-a0d4-41ec943e5bde",
   "metadata": {},
   "outputs": [],
   "source": [
    "!wget https://cf-courses-data.s3.us.cloud-object-storage.appdomain.cloud/IBMDeveloperSkillsNetwork-PY0220EN-SkillsNetwork/data/amd.json"
   ]
  },
  {
   "cell_type": "code",
   "execution_count": null,
   "id": "8a17fbcc-a9f6-4543-a0e3-d9dc074ee5c0",
   "metadata": {},
   "outputs": [],
   "source": [
    "amd=yf.Ticker(\"AMD\")\n",
    "amd_data=amd.history(period=\"5y\")\n",
    "amd_data.head()"
   ]
  },
  {
   "cell_type": "code",
   "execution_count": null,
   "id": "9578571f-2c03-4cf0-9f1a-44cbd1b79c00",
   "metadata": {},
   "outputs": [],
   "source": [
    "amazon=yf.Ticker(\"amazon\")\n",
    "amazon_data=amazon.history(period=\"5y\")\n",
    "amazon_data.head()"
   ]
  },
  {
   "cell_type": "code",
   "execution_count": null,
   "id": "0ef1c671-a8b8-42e8-b1d4-36fa44c25bae",
   "metadata": {},
   "outputs": [],
   "source": [
    "#!pip install pandas==1.3.3\n",
    "#!pip install requests==2.26.0\n",
    "!mamba install bs4==4.10.0 -y\n",
    "!mamba install html5lib==1.1 -y \n",
    "!pip install lxml==4.6.4\n",
    "#!pip install plotly==5.3.1"
   ]
  },
  {
   "cell_type": "code",
   "execution_count": null,
   "id": "c4a69fbf-c1ab-47cc-859d-38a4b685e430",
   "metadata": {},
   "outputs": [],
   "source": [
    "import pandas as pd\n",
    "import requests\n",
    "from bs4 import BeautifulSoup"
   ]
  },
  {
   "cell_type": "code",
   "execution_count": null,
   "id": "b5506ec2-d8d9-4c09-af47-2accbbf46ef5",
   "metadata": {},
   "outputs": [],
   "source": [
    "import pandas as pd\n",
    "url=\"https://cf-courses-data.s3.us.cloud-object-storage.appdomain.cloud/IBMDeveloperSkillsNetwork-PY0220EN-SkillsNetwork/labs/project/netflix_data_webpage.html\"\n",
    "read_html_pandas_data = pd.read_html(str(soup))\n",
    "print(read_html_pandas_data)"
   ]
  },
  {
   "cell_type": "code",
   "execution_count": null,
   "id": "26ed3e10-5877-4a56-84f0-9bd80e3f828d",
   "metadata": {},
   "outputs": [],
   "source": [
    "!wget https://cf-courses-data.s3.us.cloud-object-storage.appdomain.cloud/IBMDeveloperSkillsNetwork-PY0220EN-SkillsNetwork/data/amd.json"
   ]
  },
  {
   "cell_type": "code",
   "execution_count": null,
   "id": "e968f0ae-83d2-484b-a777-5e538ebc0048",
   "metadata": {},
   "outputs": [],
   "source": [
    "apple=yf.Ticker(\"AAPL\")"
   ]
  },
  {
   "cell_type": "code",
   "execution_count": null,
   "id": "987e3bac-e192-49a1-9d4e-3ae3ba588f4a",
   "metadata": {},
   "outputs": [],
   "source": [
    "import json\n",
    "with open(apple.json) as json_file:\n",
    "    apple_info = json.load(json_file)\n",
    "    # Print the type of data variable    \n",
    "    #print(\"Type:\", type(apple_info))\n",
    "apple_info"
   ]
  },
  {
   "cell_type": "code",
   "execution_count": null,
   "id": "8aaee91d-8390-4c4a-968e-c1d5d1f3973a",
   "metadata": {},
   "outputs": [],
   "source": [
    "import json"
   ]
  },
  {
   "cell_type": "code",
   "execution_count": null,
   "id": "be12f394-fae5-438f-83c4-953fadb26a08",
   "metadata": {},
   "outputs": [],
   "source": [
    "with open(apple.json) as json_file:\n",
    "    apple_info = json.load(json_file)\n",
    "    # Print the type of data variable    \n",
    "    #print(\"Type:\", type(apple_info))\n",
    "apple_info"
   ]
  },
  {
   "cell_type": "code",
   "execution_count": null,
   "id": "a4768fb2-fc5d-4a9d-b5ec-2c3e3399593c",
   "metadata": {},
   "outputs": [],
   "source": [
    "with open(apple.json) as json_file:\n",
    "    AAPL_info = json.load(json_file)\n",
    "    # Print the type of data variable    \n",
    "    #print(\"Type:\", type(apple_info))\n",
    "AAPL_info"
   ]
  },
  {
   "cell_type": "code",
   "execution_count": null,
   "id": "d3652f8c-045f-40df-8df7-c2bdaec561fd",
   "metadata": {},
   "outputs": [],
   "source": [
    "apple_country"
   ]
  },
  {
   "cell_type": "code",
   "execution_count": null,
   "id": "6feda9e1-d74f-42bc-bac5-0dcda59c5011",
   "metadata": {},
   "outputs": [],
   "source": [
    "print(apple.country)"
   ]
  },
  {
   "cell_type": "code",
   "execution_count": null,
   "id": "1333ff0b-dc32-4112-acf9-cf586d619106",
   "metadata": {},
   "outputs": [],
   "source": [
    "apple_data['country']"
   ]
  },
  {
   "cell_type": "code",
   "execution_count": null,
   "id": "fe198976-7cc2-4f80-9bb6-701ecd850045",
   "metadata": {},
   "outputs": [],
   "source": [
    "apple_info['country']"
   ]
  },
  {
   "cell_type": "code",
   "execution_count": null,
   "id": "364cfa24-f5ae-4f1d-a17c-2831663c5d7c",
   "metadata": {},
   "outputs": [],
   "source": [
    "!pip install yfinance==0.2.4\n",
    "#!pip install pandas==1.3.3\n",
    "import yfinance as yf\n",
    "import pandas as pd\n",
    "amd=yf.Ticker(\"AAPL\")"
   ]
  },
  {
   "cell_type": "code",
   "execution_count": null,
   "id": "d43571fa-a01d-4156-8ad9-7d3087942212",
   "metadata": {},
   "outputs": [],
   "source": [
    "import json\n",
    "with open('apple.json') as json_file:\n",
    "    apple_info = json.load(json_file)\n",
    "    # Print the type of data variable    \n",
    "    #print(\"Type:\", type(apple_info))\n",
    "apple_info"
   ]
  },
  {
   "cell_type": "code",
   "execution_count": null,
   "id": "8209456c-f947-42bd-921e-3dadde8b189e",
   "metadata": {},
   "outputs": [],
   "source": [
    "import yfinance as yf\n",
    "import pandas as pd\n",
    "apple=yf.Ticker(\"APPL\")\n",
    "apple_info['country']"
   ]
  },
  {
   "cell_type": "code",
   "execution_count": null,
   "id": "7ad82520-f01f-4bd3-8da5-31938605af96",
   "metadata": {},
   "outputs": [],
   "source": [
    "#!pip install pandas==1.3.3\n",
    "#!pip install requests==2.26.0\n",
    "!mamba install bs4==4.10.0 -y\n",
    "!mamba install html5lib==1.1 -y \n",
    "!pip install lxml==4.6.4\n",
    "#!pip install plotly==5.3.1"
   ]
  },
  {
   "cell_type": "code",
   "execution_count": null,
   "id": "cb001d0c-1693-4a43-965e-9618ada6587e",
   "metadata": {},
   "outputs": [],
   "source": [
    "from bs4 import BeautifulSoup"
   ]
  },
  {
   "cell_type": "code",
   "execution_count": null,
   "id": "7dded781-30d3-4060-a79c-8b2e08a9ecc7",
   "metadata": {},
   "outputs": [],
   "source": [
    "import pandas as pd\n",
    "import requests\n",
    "from bs4 import BeautifulSoup\n",
    "import warnings\n",
    "warnings.filterwarnings(\"ignore\",category=FutureWarning)"
   ]
  },
  {
   "cell_type": "code",
   "execution_count": null,
   "id": "28af54dd-ee73-4185-98da-fdaa5c6323e1",
   "metadata": {},
   "outputs": [],
   "source": [
    "import pandas as pd\n",
    "import requests\n",
    "from bs4 import BeautifulSoup\n",
    "import warnings\n",
    "warnings.filterwarnings(\"ignore\",category=FutureWarning)\n",
    "import requests\n",
    "url =\"https://cf-courses-data.s3.us.cloud-object-storage.appdomain.cloud/IBMDeveloperSkillsNetwork-PY0220EN-SkillsNetwork/labs/project/netflix_data_webpage.html\"\n",
    "data  = requests.get(url).text\n",
    "soup=BeautifulSoup(data)\n",
    "netflix_data = pd.DataFrame(columns=[\"Date\", \"Open\", \"High\", \"Low\", \"Close\", \"Volume\"])\n"
   ]
  },
  {
   "cell_type": "code",
   "execution_count": null,
   "id": "57719d03-30de-48f5-a0c8-2f16dd9ef82f",
   "metadata": {},
   "outputs": [],
   "source": []
  },
  {
   "cell_type": "code",
   "execution_count": null,
   "id": "fe0b0df9-3fab-4722-ad9e-cad77a1a32db",
   "metadata": {},
   "outputs": [],
   "source": []
  },
  {
   "cell_type": "code",
   "execution_count": null,
   "id": "022229ab-50fe-4176-b131-21b29f3d51e5",
   "metadata": {},
   "outputs": [],
   "source": []
  },
  {
   "cell_type": "code",
   "execution_count": null,
   "id": "649224d1-1db3-4ddd-b59f-aec9206f43b5",
   "metadata": {},
   "outputs": [],
   "source": []
  },
  {
   "cell_type": "code",
   "execution_count": null,
   "id": "cf3fdb86-66a6-438f-bda7-96adfbf60da6",
   "metadata": {},
   "outputs": [],
   "source": []
  },
  {
   "cell_type": "code",
   "execution_count": null,
   "id": "c2d49e21-5673-4aed-9507-1db07942c83b",
   "metadata": {},
   "outputs": [],
   "source": []
  },
  {
   "cell_type": "code",
   "execution_count": null,
   "id": "eb130d7b-1481-4a97-9fb3-ac06e8957b70",
   "metadata": {},
   "outputs": [],
   "source": []
  },
  {
   "cell_type": "code",
   "execution_count": null,
   "id": "b330907e-b985-4d83-b9bf-537e05839a34",
   "metadata": {},
   "outputs": [],
   "source": []
  },
  {
   "cell_type": "code",
   "execution_count": null,
   "id": "11842ca4-bde0-43c7-ae2a-efeddab7a6dd",
   "metadata": {},
   "outputs": [],
   "source": []
  },
  {
   "cell_type": "code",
   "execution_count": null,
   "id": "cfa69d30-7db7-4968-a1b6-9fcd7a27abe2",
   "metadata": {},
   "outputs": [],
   "source": []
  },
  {
   "cell_type": "code",
   "execution_count": null,
   "id": "45e20d30-76e7-495d-b74f-fe9eb5a00396",
   "metadata": {},
   "outputs": [],
   "source": [
    "pip install yfinance==0.2.4"
   ]
  },
  {
   "cell_type": "code",
   "execution_count": null,
   "id": "30fed567-d7d3-49a0-b9a6-c32539d6e4a9",
   "metadata": {},
   "outputs": [],
   "source": [
    "import yfinance as yf\n",
    "tsl_data=yf.Ticker(\"TSLA\")\n",
    "tesla_data=tsl_data.history(period=\"5y\")\n",
    "tesla_data.reset_index(inplace=True)\n",
    "tesla_data.head(5)"
   ]
  },
  {
   "cell_type": "code",
   "execution_count": null,
   "id": "8b3b65d9-d790-49b3-9fd7-6f98130fc60a",
   "metadata": {},
   "outputs": [],
   "source": [
    "import yfinance as yf\n",
    "import pandas as pd\n",
    "gmedata=yf.Ticker(\"GME\")\n",
    "gme_data=gmedata.history(period=\"5y\")\n",
    "gme_data.reset_index(inplace=True)\n",
    "gme_data.head(5)\n"
   ]
  },
  {
   "cell_type": "code",
   "execution_count": null,
   "id": "23115e22-a10a-4c99-bb89-6963fadd4274",
   "metadata": {},
   "outputs": [],
   "source": [
    "url=\"https://cf-courses-data.s3.us.cloud-object-storage.appdomain.cloud/IBMDeveloperSkillsNetwork-PY0220EN-SkillsNetwork/labs/project/stock.html\"\n",
    "html_data=requests.get(url).text"
   ]
  },
  {
   "cell_type": "code",
   "execution_count": null,
   "id": "1d17d575-8f10-4b46-8443-fe419e49db7a",
   "metadata": {},
   "outputs": [],
   "source": [
    "soup = BeautifulSoup(html_data,\"html5lib\")"
   ]
  },
  {
   "cell_type": "code",
   "execution_count": null,
   "id": "0ac484ba-347a-49b8-962f-e1efa0afc649",
   "metadata": {},
   "outputs": [],
   "source": [
    "gme_revenue= pd.read_html(url, match=\"GameStop Quarterly Revenue\", flavor='bs4')[0]\n",
    "gme_revenue=gme_revenue.rename(columns = {'GameStop Quarterly Revenue(Millions of US $)': 'Date', 'GameStop Quarterly Revenue(Millions of US $).1': 'Revenue'}, inplace = False)\n",
    "gme_revenue[\"Revenue\"] = gme_revenue[\"Revenue\"].str.replace(\",\",\"\").str.replace(\"$\",\"\")\n",
    "gme_revenue.head()"
   ]
  },
  {
   "cell_type": "code",
   "execution_count": null,
   "id": "c40bd209-5ff0-4d1a-9c98-5e49fc3b554b",
   "metadata": {},
   "outputs": [],
   "source": [
    "gme_revenue.dropna(inplace=True)\n",
    "gme_revenue.tail()"
   ]
  },
  {
   "cell_type": "code",
   "execution_count": null,
   "id": "cb9ee89a-3f53-4bbd-8837-bcf64b0dca68",
   "metadata": {},
   "outputs": [],
   "source": [
    "import pandas as pd\n",
    "from bs4 import BeautifulSoup\n",
    "import requests\n",
    "url= \"https://www.macrotrends.net/stocks/charts/TSLA/tesla/revenue?utm_medium=Exinfluencer&utm_source=Exinfluencer&utm_content=000026UJ&utm_term=10006555&utm_id=NA-SkillsNetwork-Channel-SkillsNetworkCoursesIBMDeveloperSkillsNetworkPY0220ENSkillsNetwork23455606-2022-01-01\"\n",
    "html_data=requests.get(url).text"
   ]
  },
  {
   "cell_type": "code",
   "execution_count": null,
   "id": "8fa1ff5f-b20c-449f-b78a-2ce71da84ddf",
   "metadata": {},
   "outputs": [],
   "source": [
    "soup = BeautifulSoup(html_data,\"html5lib\")"
   ]
  },
  {
   "cell_type": "code",
   "execution_count": null,
   "id": "61a975af-faaf-48a2-b9fc-8c311ad9691b",
   "metadata": {},
   "outputs": [],
   "source": [
    "tesla_revenue= pd.read_html(url, match=\"Tesla Quarterly Revenue\", flavor='bs4')[0]\n",
    "tesla_revenue=tesla_revenue.rename(columns = {'Tesla Quarterly Revenue(Millions of US $)': 'Date', 'Tesla Quarterly Revenue(Millions of US $).1': 'Revenue'}, inplace = False)\n",
    "tesla_revenue[\"Revenue\"] = tesla_revenue[\"Revenue\"].str.replace(\",\",\"\").str.replace(\"$\",\"\")\n",
    "tesla_revenue.head()"
   ]
  },
  {
   "cell_type": "code",
   "execution_count": null,
   "id": "26b57720-b367-4e83-860d-e204a3215f00",
   "metadata": {},
   "outputs": [],
   "source": [
    "tesla_revenue.dropna(inplace=True)\n",
    "\n",
    "tesla_revenue = tesla_revenue[tesla_revenue['Revenue'] != \"\"]"
   ]
  },
  {
   "cell_type": "code",
   "execution_count": null,
   "id": "044c8c5e-e331-4f9f-b0a1-bed6ef9e3eed",
   "metadata": {},
   "outputs": [],
   "source": [
    "tesla_revenue.tail(5)"
   ]
  },
  {
   "cell_type": "code",
   "execution_count": null,
   "id": "af10060b-2aaa-4379-b7f9-370853433af4",
   "metadata": {},
   "outputs": [],
   "source": []
  },
  {
   "cell_type": "code",
   "execution_count": null,
   "id": "b6cdd757-f889-49b0-997e-e6f3fcebbb94",
   "metadata": {},
   "outputs": [],
   "source": []
  },
  {
   "cell_type": "code",
   "execution_count": null,
   "id": "667951b1-7d68-4efa-a506-3b9213167863",
   "metadata": {},
   "outputs": [],
   "source": []
  },
  {
   "cell_type": "code",
   "execution_count": null,
   "id": "7add0e21-e7c6-456f-8d5c-8ea8a300d818",
   "metadata": {},
   "outputs": [],
   "source": []
  },
  {
   "cell_type": "code",
   "execution_count": null,
   "id": "79e2e124-1b6e-4564-906e-4166d422e01e",
   "metadata": {},
   "outputs": [],
   "source": []
  },
  {
   "cell_type": "code",
   "execution_count": null,
   "id": "dd482c5e-5f41-444b-b686-1f72992a9b9b",
   "metadata": {},
   "outputs": [],
   "source": []
  },
  {
   "cell_type": "code",
   "execution_count": null,
   "id": "35b31119-7ea5-4239-bb29-e7e2ffda62a4",
   "metadata": {},
   "outputs": [],
   "source": []
  },
  {
   "cell_type": "code",
   "execution_count": null,
   "id": "e4930051-840a-4756-b75a-225e5c309367",
   "metadata": {},
   "outputs": [],
   "source": []
  },
  {
   "cell_type": "code",
   "execution_count": null,
   "id": "17994b18-1bc7-47c0-8650-0937db43daf9",
   "metadata": {},
   "outputs": [],
   "source": []
  },
  {
   "cell_type": "code",
   "execution_count": null,
   "id": "2293347f-5b64-4a0e-afe9-a861907ec89c",
   "metadata": {},
   "outputs": [],
   "source": []
  },
  {
   "cell_type": "code",
   "execution_count": null,
   "id": "0e411072-dbf4-47a1-bf05-4c90afc25de6",
   "metadata": {},
   "outputs": [],
   "source": []
  },
  {
   "cell_type": "code",
   "execution_count": null,
   "id": "53003c59-a136-4fdb-bf30-fb830d723c81",
   "metadata": {},
   "outputs": [],
   "source": []
  },
  {
   "cell_type": "code",
   "execution_count": null,
   "id": "bd5b87e5-68a8-4abe-8ef8-c3564bca7d31",
   "metadata": {},
   "outputs": [],
   "source": [
    "!pip install yfinance\n",
    "#!pip install pandas\n",
    "#!pip install requests\n",
    "!pip install bs4\n",
    "#!pip install plotly"
   ]
  },
  {
   "cell_type": "code",
   "execution_count": 89,
   "id": "24275ae1-faa6-4996-a9d5-b4b60a9a81fe",
   "metadata": {},
   "outputs": [
    {
     "name": "stdout",
     "output_type": "stream",
     "text": [
      "Collecting yfinance==0.1.67\n",
      "  Using cached yfinance-0.1.67-py2.py3-none-any.whl.metadata (10 kB)\n",
      "Requirement already satisfied: pandas>=0.24 in /opt/anaconda3/lib/python3.11/site-packages (from yfinance==0.1.67) (2.2.2)\n",
      "Requirement already satisfied: numpy>=1.15 in /opt/anaconda3/lib/python3.11/site-packages (from yfinance==0.1.67) (1.26.4)\n",
      "Requirement already satisfied: requests>=2.20 in /opt/anaconda3/lib/python3.11/site-packages (from yfinance==0.1.67) (2.31.0)\n",
      "Requirement already satisfied: multitasking>=0.0.7 in /opt/anaconda3/lib/python3.11/site-packages (from yfinance==0.1.67) (0.0.11)\n",
      "Requirement already satisfied: lxml>=4.5.1 in /opt/anaconda3/lib/python3.11/site-packages (from yfinance==0.1.67) (4.9.3)\n",
      "Requirement already satisfied: python-dateutil>=2.8.2 in /opt/anaconda3/lib/python3.11/site-packages (from pandas>=0.24->yfinance==0.1.67) (2.8.2)\n",
      "Requirement already satisfied: pytz>=2020.1 in /opt/anaconda3/lib/python3.11/site-packages (from pandas>=0.24->yfinance==0.1.67) (2023.3.post1)\n",
      "Requirement already satisfied: tzdata>=2022.7 in /opt/anaconda3/lib/python3.11/site-packages (from pandas>=0.24->yfinance==0.1.67) (2023.3)\n",
      "Requirement already satisfied: charset-normalizer<4,>=2 in /opt/anaconda3/lib/python3.11/site-packages (from requests>=2.20->yfinance==0.1.67) (2.0.4)\n",
      "Requirement already satisfied: idna<4,>=2.5 in /opt/anaconda3/lib/python3.11/site-packages (from requests>=2.20->yfinance==0.1.67) (3.4)\n",
      "Requirement already satisfied: urllib3<3,>=1.21.1 in /opt/anaconda3/lib/python3.11/site-packages (from requests>=2.20->yfinance==0.1.67) (2.0.7)\n",
      "Requirement already satisfied: certifi>=2017.4.17 in /opt/anaconda3/lib/python3.11/site-packages (from requests>=2.20->yfinance==0.1.67) (2024.6.2)\n",
      "Requirement already satisfied: six>=1.5 in /opt/anaconda3/lib/python3.11/site-packages (from python-dateutil>=2.8.2->pandas>=0.24->yfinance==0.1.67) (1.16.0)\n",
      "Using cached yfinance-0.1.67-py2.py3-none-any.whl (25 kB)\n",
      "Installing collected packages: yfinance\n",
      "  Attempting uninstall: yfinance\n",
      "    Found existing installation: yfinance 0.2.4\n",
      "    Uninstalling yfinance-0.2.4:\n",
      "      Successfully uninstalled yfinance-0.2.4\n",
      "Successfully installed yfinance-0.1.67\n",
      "zsh:1: command not found: mamba\n",
      "zsh:1: command not found: mamba\n",
      "Collecting lxml==4.6.4\n",
      "  Using cached lxml-4.6.4.tar.gz (3.2 MB)\n",
      "  Preparing metadata (setup.py) ... \u001b[?25ldone\n",
      "\u001b[?25hBuilding wheels for collected packages: lxml\n",
      "  Building wheel for lxml (setup.py) ... \u001b[?25lerror\n",
      "  \u001b[1;31merror\u001b[0m: \u001b[1msubprocess-exited-with-error\u001b[0m\n",
      "  \n",
      "  \u001b[31m×\u001b[0m \u001b[32mpython setup.py bdist_wheel\u001b[0m did not run successfully.\n",
      "  \u001b[31m│\u001b[0m exit code: \u001b[1;36m1\u001b[0m\n",
      "  \u001b[31m╰─>\u001b[0m \u001b[31m[108 lines of output]\u001b[0m\n",
      "  \u001b[31m   \u001b[0m Building lxml version 4.6.4.\n",
      "  \u001b[31m   \u001b[0m /private/var/folders/kt/xg8sw3qj0030bwvtfq7ld3f40000gn/T/pip-install-n18n9fru/lxml_e6205663d0a748cca7a883598433527b/setup.py:67: DeprecationWarning: pkg_resources is deprecated as an API. See https://setuptools.pypa.io/en/latest/pkg_resources.html\n",
      "  \u001b[31m   \u001b[0m   import pkg_resources\n",
      "  \u001b[31m   \u001b[0m Building without Cython.\n",
      "  \u001b[31m   \u001b[0m Building against libxml2 2.10.4 and libxslt 1.1.37\n",
      "  \u001b[31m   \u001b[0m Building against libxml2/libxslt in one of the following directories:\n",
      "  \u001b[31m   \u001b[0m   /opt/anaconda3/lib\n",
      "  \u001b[31m   \u001b[0m   /opt/anaconda3/lib\n",
      "  \u001b[31m   \u001b[0m   /opt/anaconda3/lib\n",
      "  \u001b[31m   \u001b[0m   /opt/anaconda3/lib\n",
      "  \u001b[31m   \u001b[0m   /opt/anaconda3/lib\n",
      "  \u001b[31m   \u001b[0m running bdist_wheel\n",
      "  \u001b[31m   \u001b[0m running build\n",
      "  \u001b[31m   \u001b[0m running build_py\n",
      "  \u001b[31m   \u001b[0m creating build\n",
      "  \u001b[31m   \u001b[0m creating build/lib.macosx-11.1-arm64-cpython-311\n",
      "  \u001b[31m   \u001b[0m creating build/lib.macosx-11.1-arm64-cpython-311/lxml\n",
      "  \u001b[31m   \u001b[0m copying src/lxml/_elementpath.py -> build/lib.macosx-11.1-arm64-cpython-311/lxml\n",
      "  \u001b[31m   \u001b[0m copying src/lxml/sax.py -> build/lib.macosx-11.1-arm64-cpython-311/lxml\n",
      "  \u001b[31m   \u001b[0m copying src/lxml/pyclasslookup.py -> build/lib.macosx-11.1-arm64-cpython-311/lxml\n",
      "  \u001b[31m   \u001b[0m copying src/lxml/__init__.py -> build/lib.macosx-11.1-arm64-cpython-311/lxml\n",
      "  \u001b[31m   \u001b[0m copying src/lxml/builder.py -> build/lib.macosx-11.1-arm64-cpython-311/lxml\n",
      "  \u001b[31m   \u001b[0m copying src/lxml/doctestcompare.py -> build/lib.macosx-11.1-arm64-cpython-311/lxml\n",
      "  \u001b[31m   \u001b[0m copying src/lxml/usedoctest.py -> build/lib.macosx-11.1-arm64-cpython-311/lxml\n",
      "  \u001b[31m   \u001b[0m copying src/lxml/cssselect.py -> build/lib.macosx-11.1-arm64-cpython-311/lxml\n",
      "  \u001b[31m   \u001b[0m copying src/lxml/ElementInclude.py -> build/lib.macosx-11.1-arm64-cpython-311/lxml\n",
      "  \u001b[31m   \u001b[0m creating build/lib.macosx-11.1-arm64-cpython-311/lxml/includes\n",
      "  \u001b[31m   \u001b[0m copying src/lxml/includes/__init__.py -> build/lib.macosx-11.1-arm64-cpython-311/lxml/includes\n",
      "  \u001b[31m   \u001b[0m creating build/lib.macosx-11.1-arm64-cpython-311/lxml/html\n",
      "  \u001b[31m   \u001b[0m copying src/lxml/html/soupparser.py -> build/lib.macosx-11.1-arm64-cpython-311/lxml/html\n",
      "  \u001b[31m   \u001b[0m copying src/lxml/html/defs.py -> build/lib.macosx-11.1-arm64-cpython-311/lxml/html\n",
      "  \u001b[31m   \u001b[0m copying src/lxml/html/_setmixin.py -> build/lib.macosx-11.1-arm64-cpython-311/lxml/html\n",
      "  \u001b[31m   \u001b[0m copying src/lxml/html/clean.py -> build/lib.macosx-11.1-arm64-cpython-311/lxml/html\n",
      "  \u001b[31m   \u001b[0m copying src/lxml/html/_diffcommand.py -> build/lib.macosx-11.1-arm64-cpython-311/lxml/html\n",
      "  \u001b[31m   \u001b[0m copying src/lxml/html/html5parser.py -> build/lib.macosx-11.1-arm64-cpython-311/lxml/html\n",
      "  \u001b[31m   \u001b[0m copying src/lxml/html/__init__.py -> build/lib.macosx-11.1-arm64-cpython-311/lxml/html\n",
      "  \u001b[31m   \u001b[0m copying src/lxml/html/formfill.py -> build/lib.macosx-11.1-arm64-cpython-311/lxml/html\n",
      "  \u001b[31m   \u001b[0m copying src/lxml/html/builder.py -> build/lib.macosx-11.1-arm64-cpython-311/lxml/html\n",
      "  \u001b[31m   \u001b[0m copying src/lxml/html/ElementSoup.py -> build/lib.macosx-11.1-arm64-cpython-311/lxml/html\n",
      "  \u001b[31m   \u001b[0m copying src/lxml/html/_html5builder.py -> build/lib.macosx-11.1-arm64-cpython-311/lxml/html\n",
      "  \u001b[31m   \u001b[0m copying src/lxml/html/usedoctest.py -> build/lib.macosx-11.1-arm64-cpython-311/lxml/html\n",
      "  \u001b[31m   \u001b[0m copying src/lxml/html/diff.py -> build/lib.macosx-11.1-arm64-cpython-311/lxml/html\n",
      "  \u001b[31m   \u001b[0m creating build/lib.macosx-11.1-arm64-cpython-311/lxml/isoschematron\n",
      "  \u001b[31m   \u001b[0m copying src/lxml/isoschematron/__init__.py -> build/lib.macosx-11.1-arm64-cpython-311/lxml/isoschematron\n",
      "  \u001b[31m   \u001b[0m copying src/lxml/etree.h -> build/lib.macosx-11.1-arm64-cpython-311/lxml\n",
      "  \u001b[31m   \u001b[0m copying src/lxml/etree_api.h -> build/lib.macosx-11.1-arm64-cpython-311/lxml\n",
      "  \u001b[31m   \u001b[0m copying src/lxml/lxml.etree.h -> build/lib.macosx-11.1-arm64-cpython-311/lxml\n",
      "  \u001b[31m   \u001b[0m copying src/lxml/lxml.etree_api.h -> build/lib.macosx-11.1-arm64-cpython-311/lxml\n",
      "  \u001b[31m   \u001b[0m copying src/lxml/includes/xmlerror.pxd -> build/lib.macosx-11.1-arm64-cpython-311/lxml/includes\n",
      "  \u001b[31m   \u001b[0m copying src/lxml/includes/c14n.pxd -> build/lib.macosx-11.1-arm64-cpython-311/lxml/includes\n",
      "  \u001b[31m   \u001b[0m copying src/lxml/includes/xmlschema.pxd -> build/lib.macosx-11.1-arm64-cpython-311/lxml/includes\n",
      "  \u001b[31m   \u001b[0m copying src/lxml/includes/__init__.pxd -> build/lib.macosx-11.1-arm64-cpython-311/lxml/includes\n",
      "  \u001b[31m   \u001b[0m copying src/lxml/includes/schematron.pxd -> build/lib.macosx-11.1-arm64-cpython-311/lxml/includes\n",
      "  \u001b[31m   \u001b[0m copying src/lxml/includes/tree.pxd -> build/lib.macosx-11.1-arm64-cpython-311/lxml/includes\n",
      "  \u001b[31m   \u001b[0m copying src/lxml/includes/uri.pxd -> build/lib.macosx-11.1-arm64-cpython-311/lxml/includes\n",
      "  \u001b[31m   \u001b[0m copying src/lxml/includes/etreepublic.pxd -> build/lib.macosx-11.1-arm64-cpython-311/lxml/includes\n",
      "  \u001b[31m   \u001b[0m copying src/lxml/includes/xpath.pxd -> build/lib.macosx-11.1-arm64-cpython-311/lxml/includes\n",
      "  \u001b[31m   \u001b[0m copying src/lxml/includes/htmlparser.pxd -> build/lib.macosx-11.1-arm64-cpython-311/lxml/includes\n",
      "  \u001b[31m   \u001b[0m copying src/lxml/includes/xslt.pxd -> build/lib.macosx-11.1-arm64-cpython-311/lxml/includes\n",
      "  \u001b[31m   \u001b[0m copying src/lxml/includes/config.pxd -> build/lib.macosx-11.1-arm64-cpython-311/lxml/includes\n",
      "  \u001b[31m   \u001b[0m copying src/lxml/includes/xmlparser.pxd -> build/lib.macosx-11.1-arm64-cpython-311/lxml/includes\n",
      "  \u001b[31m   \u001b[0m copying src/lxml/includes/xinclude.pxd -> build/lib.macosx-11.1-arm64-cpython-311/lxml/includes\n",
      "  \u001b[31m   \u001b[0m copying src/lxml/includes/dtdvalid.pxd -> build/lib.macosx-11.1-arm64-cpython-311/lxml/includes\n",
      "  \u001b[31m   \u001b[0m copying src/lxml/includes/relaxng.pxd -> build/lib.macosx-11.1-arm64-cpython-311/lxml/includes\n",
      "  \u001b[31m   \u001b[0m copying src/lxml/includes/lxml-version.h -> build/lib.macosx-11.1-arm64-cpython-311/lxml/includes\n",
      "  \u001b[31m   \u001b[0m copying src/lxml/includes/etree_defs.h -> build/lib.macosx-11.1-arm64-cpython-311/lxml/includes\n",
      "  \u001b[31m   \u001b[0m creating build/lib.macosx-11.1-arm64-cpython-311/lxml/isoschematron/resources\n",
      "  \u001b[31m   \u001b[0m creating build/lib.macosx-11.1-arm64-cpython-311/lxml/isoschematron/resources/rng\n",
      "  \u001b[31m   \u001b[0m copying src/lxml/isoschematron/resources/rng/iso-schematron.rng -> build/lib.macosx-11.1-arm64-cpython-311/lxml/isoschematron/resources/rng\n",
      "  \u001b[31m   \u001b[0m creating build/lib.macosx-11.1-arm64-cpython-311/lxml/isoschematron/resources/xsl\n",
      "  \u001b[31m   \u001b[0m copying src/lxml/isoschematron/resources/xsl/XSD2Schtrn.xsl -> build/lib.macosx-11.1-arm64-cpython-311/lxml/isoschematron/resources/xsl\n",
      "  \u001b[31m   \u001b[0m copying src/lxml/isoschematron/resources/xsl/RNG2Schtrn.xsl -> build/lib.macosx-11.1-arm64-cpython-311/lxml/isoschematron/resources/xsl\n",
      "  \u001b[31m   \u001b[0m creating build/lib.macosx-11.1-arm64-cpython-311/lxml/isoschematron/resources/xsl/iso-schematron-xslt1\n",
      "  \u001b[31m   \u001b[0m copying src/lxml/isoschematron/resources/xsl/iso-schematron-xslt1/iso_abstract_expand.xsl -> build/lib.macosx-11.1-arm64-cpython-311/lxml/isoschematron/resources/xsl/iso-schematron-xslt1\n",
      "  \u001b[31m   \u001b[0m copying src/lxml/isoschematron/resources/xsl/iso-schematron-xslt1/iso_dsdl_include.xsl -> build/lib.macosx-11.1-arm64-cpython-311/lxml/isoschematron/resources/xsl/iso-schematron-xslt1\n",
      "  \u001b[31m   \u001b[0m copying src/lxml/isoschematron/resources/xsl/iso-schematron-xslt1/iso_schematron_skeleton_for_xslt1.xsl -> build/lib.macosx-11.1-arm64-cpython-311/lxml/isoschematron/resources/xsl/iso-schematron-xslt1\n",
      "  \u001b[31m   \u001b[0m copying src/lxml/isoschematron/resources/xsl/iso-schematron-xslt1/iso_svrl_for_xslt1.xsl -> build/lib.macosx-11.1-arm64-cpython-311/lxml/isoschematron/resources/xsl/iso-schematron-xslt1\n",
      "  \u001b[31m   \u001b[0m copying src/lxml/isoschematron/resources/xsl/iso-schematron-xslt1/iso_schematron_message.xsl -> build/lib.macosx-11.1-arm64-cpython-311/lxml/isoschematron/resources/xsl/iso-schematron-xslt1\n",
      "  \u001b[31m   \u001b[0m copying src/lxml/isoschematron/resources/xsl/iso-schematron-xslt1/readme.txt -> build/lib.macosx-11.1-arm64-cpython-311/lxml/isoschematron/resources/xsl/iso-schematron-xslt1\n",
      "  \u001b[31m   \u001b[0m running build_ext\n",
      "  \u001b[31m   \u001b[0m building 'lxml.etree' extension\n",
      "  \u001b[31m   \u001b[0m creating build/temp.macosx-11.1-arm64-cpython-311\n",
      "  \u001b[31m   \u001b[0m creating build/temp.macosx-11.1-arm64-cpython-311/src\n",
      "  \u001b[31m   \u001b[0m creating build/temp.macosx-11.1-arm64-cpython-311/src/lxml\n",
      "  \u001b[31m   \u001b[0m clang -DNDEBUG -fwrapv -O2 -Wall -fPIC -O2 -isystem /opt/anaconda3/include -arch arm64 -fPIC -O2 -isystem /opt/anaconda3/include -arch arm64 -DCYTHON_CLINE_IN_TRACEBACK=0 -I/opt/anaconda3/include/libxml2 -I/opt/anaconda3/include -Isrc -Isrc/lxml/includes -I/opt/anaconda3/include/python3.11 -c src/lxml/etree.c -o build/temp.macosx-11.1-arm64-cpython-311/src/lxml/etree.o -w -flat_namespace\n",
      "  \u001b[31m   \u001b[0m src/lxml/etree.c:288:12: fatal error: 'longintrepr.h' file not found\n",
      "  \u001b[31m   \u001b[0m   #include \"longintrepr.h\"\n",
      "  \u001b[31m   \u001b[0m            ^~~~~~~~~~~~~~~\n",
      "  \u001b[31m   \u001b[0m 1 error generated.\n",
      "  \u001b[31m   \u001b[0m Compile failed: command '/usr/bin/clang' failed with exit code 1\n",
      "  \u001b[31m   \u001b[0m creating var\n",
      "  \u001b[31m   \u001b[0m creating var/folders\n",
      "  \u001b[31m   \u001b[0m creating var/folders/kt\n",
      "  \u001b[31m   \u001b[0m creating var/folders/kt/xg8sw3qj0030bwvtfq7ld3f40000gn\n",
      "  \u001b[31m   \u001b[0m creating var/folders/kt/xg8sw3qj0030bwvtfq7ld3f40000gn/T\n",
      "  \u001b[31m   \u001b[0m cc -I/opt/anaconda3/include/libxml2 -I/opt/anaconda3/include -I/usr/include/libxml2 -c /var/folders/kt/xg8sw3qj0030bwvtfq7ld3f40000gn/T/xmlXPathInitoyx7evp7.c -o var/folders/kt/xg8sw3qj0030bwvtfq7ld3f40000gn/T/xmlXPathInitoyx7evp7.o\n",
      "  \u001b[31m   \u001b[0m /var/folders/kt/xg8sw3qj0030bwvtfq7ld3f40000gn/T/xmlXPathInitoyx7evp7.c:3:5: warning: 'xmlXPathInit' is deprecated [-Wdeprecated-declarations]\n",
      "  \u001b[31m   \u001b[0m     xmlXPathInit();\n",
      "  \u001b[31m   \u001b[0m     ^\n",
      "  \u001b[31m   \u001b[0m /opt/anaconda3/include/libxml2/libxml/xpath.h:562:1: note: 'xmlXPathInit' has been explicitly marked deprecated here\n",
      "  \u001b[31m   \u001b[0m XML_DEPRECATED\n",
      "  \u001b[31m   \u001b[0m ^\n",
      "  \u001b[31m   \u001b[0m /opt/anaconda3/include/libxml2/libxml/xmlversion.h:464:43: note: expanded from macro 'XML_DEPRECATED'\n",
      "  \u001b[31m   \u001b[0m #    define XML_DEPRECATED __attribute__((deprecated))\n",
      "  \u001b[31m   \u001b[0m                                           ^\n",
      "  \u001b[31m   \u001b[0m 1 warning generated.\n",
      "  \u001b[31m   \u001b[0m cc var/folders/kt/xg8sw3qj0030bwvtfq7ld3f40000gn/T/xmlXPathInitoyx7evp7.o -L/opt/anaconda3/lib -L/opt/anaconda3/lib -L/opt/anaconda3/lib -L/opt/anaconda3/lib -L/opt/anaconda3/lib -lxml2 -o a.out\n",
      "  \u001b[31m   \u001b[0m error: command '/usr/bin/clang' failed with exit code 1\n",
      "  \u001b[31m   \u001b[0m \u001b[31m[end of output]\u001b[0m\n",
      "  \n",
      "  \u001b[1;35mnote\u001b[0m: This error originates from a subprocess, and is likely not a problem with pip.\n",
      "\u001b[31m  ERROR: Failed building wheel for lxml\u001b[0m\u001b[31m\n",
      "\u001b[0m\u001b[?25h  Running setup.py clean for lxml\n",
      "Failed to build lxml\n",
      "\u001b[31mERROR: Could not build wheels for lxml, which is required to install pyproject.toml-based projects\u001b[0m\u001b[31m\n",
      "\u001b[0mzsh:1: 4.2.0 not found\n"
     ]
    }
   ],
   "source": [
    "#!pip install pandas==1.3.3\n",
    "#!pip install requests==2.26.0\n",
    "#!pip install plotly==5.3.1\n",
    "!pip install yfinance==0.1.67\n",
    "!mamba install bs4==4.10.0 -y\n",
    "!mamba install html5lib==1.1 -y\n",
    "!pip install lxml==4.6.4\n",
    "!pip install nbformat>=4.2.0"
   ]
  },
  {
   "cell_type": "code",
   "execution_count": 90,
   "id": "61e2898a-b948-4c91-a5af-9c3f599973b9",
   "metadata": {},
   "outputs": [],
   "source": [
    "import yfinance as yf\n",
    "import pandas as pd\n",
    "import requests\n",
    "from bs4 import BeautifulSoup\n",
    "import plotly.graph_objects as go\n",
    "from plotly.subplots import make_subplots\n",
    "from IPython.display import display"
   ]
  },
  {
   "cell_type": "code",
   "execution_count": 91,
   "id": "1f19e52d-b1a2-4eb1-bf87-5e3c4ee97d9c",
   "metadata": {},
   "outputs": [],
   "source": [
    "def make_graph(stock_data, revenue_data, stock):\n",
    "    fig = make_subplots(rows=2, cols=1, shared_xaxes=True, subplot_titles=(\"Historical Share Price\", \"Historical Revenue\"), vertical_spacing = .3)\n",
    "    stock_data_specific = stock_data[stock_data.Date <= '2021--06-14']\n",
    "    revenue_data_specific = revenue_data[revenue_data.Date <= '2021-04-30']\n",
    "    fig.add_trace(go.Scatter(x=pd.to_datetime(stock_data_specific.Date, infer_datetime_format=True), y=stock_data_specific.Close.astype(\"float\"), name=\"Share Price\"), row=1, col=1)\n",
    "    fig.add_trace(go.Scatter(x=pd.to_datetime(revenue_data_specific.Date, infer_datetime_format=True), y=revenue_data_specific.Revenue.astype(\"float\"), name=\"Revenue\"), row=2, col=1)\n",
    "    fig.update_xaxes(title_text=\"Date\", row=1, col=1)\n",
    "    fig.update_xaxes(title_text=\"Date\", row=2, col=1)\n",
    "    fig.update_yaxes(title_text=\"Price ($US)\", row=1, col=1)\n",
    "    fig.update_yaxes(title_text=\"Revenue ($US Millions)\", row=2, col=1)\n",
    "    fig.update_layout(showlegend=False,\n",
    "    height=900,\n",
    "    title=stock,\n",
    "    xaxis_rangeslider_visible=True)\n",
    "    fig.show()"
   ]
  },
  {
   "cell_type": "code",
   "execution_count": 92,
   "id": "e7500490-1e61-4a59-9448-42b64a0ee29f",
   "metadata": {},
   "outputs": [],
   "source": [
    "tesla = yf.Ticker(\"TSLA\")"
   ]
  },
  {
   "cell_type": "code",
   "execution_count": 97,
   "id": "f4c5d5c3-8dc7-4f55-8534-8ec4b8f73e8b",
   "metadata": {},
   "outputs": [],
   "source": [
    "tesla_data = tesla.history(period=\"5y\")"
   ]
  },
  {
   "cell_type": "code",
   "execution_count": 98,
   "id": "49494acb-42ba-4dac-80a4-13c4623a9de4",
   "metadata": {},
   "outputs": [
    {
     "data": {
      "text/html": [
       "<div>\n",
       "<style scoped>\n",
       "    .dataframe tbody tr th:only-of-type {\n",
       "        vertical-align: middle;\n",
       "    }\n",
       "\n",
       "    .dataframe tbody tr th {\n",
       "        vertical-align: top;\n",
       "    }\n",
       "\n",
       "    .dataframe thead th {\n",
       "        text-align: right;\n",
       "    }\n",
       "</style>\n",
       "<table border=\"1\" class=\"dataframe\">\n",
       "  <thead>\n",
       "    <tr style=\"text-align: right;\">\n",
       "      <th></th>\n",
       "      <th>Date</th>\n",
       "      <th>Open</th>\n",
       "      <th>High</th>\n",
       "      <th>Low</th>\n",
       "      <th>Close</th>\n",
       "      <th>Volume</th>\n",
       "      <th>Dividends</th>\n",
       "      <th>Stock Splits</th>\n",
       "    </tr>\n",
       "  </thead>\n",
       "  <tbody>\n",
       "    <tr>\n",
       "      <th>0</th>\n",
       "      <td>2019-06-27 00:00:00-04:00</td>\n",
       "      <td>14.630000</td>\n",
       "      <td>14.860000</td>\n",
       "      <td>14.490000</td>\n",
       "      <td>14.856000</td>\n",
       "      <td>95095500</td>\n",
       "      <td>0.0</td>\n",
       "      <td>0.0</td>\n",
       "    </tr>\n",
       "    <tr>\n",
       "      <th>1</th>\n",
       "      <td>2019-06-28 00:00:00-04:00</td>\n",
       "      <td>14.732667</td>\n",
       "      <td>15.011333</td>\n",
       "      <td>14.720000</td>\n",
       "      <td>14.897333</td>\n",
       "      <td>102771000</td>\n",
       "      <td>0.0</td>\n",
       "      <td>0.0</td>\n",
       "    </tr>\n",
       "    <tr>\n",
       "      <th>2</th>\n",
       "      <td>2019-07-01 00:00:00-04:00</td>\n",
       "      <td>15.347333</td>\n",
       "      <td>15.540000</td>\n",
       "      <td>15.085333</td>\n",
       "      <td>15.144667</td>\n",
       "      <td>123201000</td>\n",
       "      <td>0.0</td>\n",
       "      <td>0.0</td>\n",
       "    </tr>\n",
       "    <tr>\n",
       "      <th>3</th>\n",
       "      <td>2019-07-02 00:00:00-04:00</td>\n",
       "      <td>15.259333</td>\n",
       "      <td>15.276667</td>\n",
       "      <td>14.814667</td>\n",
       "      <td>14.970000</td>\n",
       "      <td>138885000</td>\n",
       "      <td>0.0</td>\n",
       "      <td>0.0</td>\n",
       "    </tr>\n",
       "    <tr>\n",
       "      <th>4</th>\n",
       "      <td>2019-07-03 00:00:00-04:00</td>\n",
       "      <td>15.959333</td>\n",
       "      <td>16.104668</td>\n",
       "      <td>15.634000</td>\n",
       "      <td>15.660000</td>\n",
       "      <td>213016500</td>\n",
       "      <td>0.0</td>\n",
       "      <td>0.0</td>\n",
       "    </tr>\n",
       "  </tbody>\n",
       "</table>\n",
       "</div>"
      ],
      "text/plain": [
       "                       Date       Open       High        Low      Close  \\\n",
       "0 2019-06-27 00:00:00-04:00  14.630000  14.860000  14.490000  14.856000   \n",
       "1 2019-06-28 00:00:00-04:00  14.732667  15.011333  14.720000  14.897333   \n",
       "2 2019-07-01 00:00:00-04:00  15.347333  15.540000  15.085333  15.144667   \n",
       "3 2019-07-02 00:00:00-04:00  15.259333  15.276667  14.814667  14.970000   \n",
       "4 2019-07-03 00:00:00-04:00  15.959333  16.104668  15.634000  15.660000   \n",
       "\n",
       "      Volume  Dividends  Stock Splits  \n",
       "0   95095500        0.0           0.0  \n",
       "1  102771000        0.0           0.0  \n",
       "2  123201000        0.0           0.0  \n",
       "3  138885000        0.0           0.0  \n",
       "4  213016500        0.0           0.0  "
      ]
     },
     "execution_count": 98,
     "metadata": {},
     "output_type": "execute_result"
    }
   ],
   "source": [
    "tesla_data.reset_index(inplace=True)\n",
    "tesla_data.head()"
   ]
  },
  {
   "cell_type": "code",
   "execution_count": 99,
   "id": "7684adc2-9469-4bcc-8658-6af7c97f565a",
   "metadata": {},
   "outputs": [],
   "source": [
    "url = \"https://cf-courses-data.s3.us.cloud-object-storage.appdomain.cloud/IBMDeveloperSkillsNetwork-PY0220EN-SkillsNetwork/labs/project/revenue.htm\"\n",
    "html_data  = requests.get(url).text"
   ]
  },
  {
   "cell_type": "code",
   "execution_count": 100,
   "id": "cf87fbf6-a01e-4386-8499-d5d227f99ca7",
   "metadata": {},
   "outputs": [],
   "source": [
    "soup = BeautifulSoup(html_data, 'html5lib')"
   ]
  },
  {
   "cell_type": "code",
   "execution_count": 101,
   "id": "4d5c6cec-0ce8-4a32-9ace-ee2a5d6599af",
   "metadata": {},
   "outputs": [
    {
     "ename": "AttributeError",
     "evalue": "'DataFrame' object has no attribute 'append'",
     "output_type": "error",
     "traceback": [
      "\u001b[0;31m---------------------------------------------------------------------------\u001b[0m",
      "\u001b[0;31mAttributeError\u001b[0m                            Traceback (most recent call last)",
      "\u001b[0;32m/var/folders/kt/xg8sw3qj0030bwvtfq7ld3f40000gn/T/ipykernel_48760/99757628.py\u001b[0m in \u001b[0;36m?\u001b[0;34m()\u001b[0m\n\u001b[1;32m      5\u001b[0m \u001b[0;32mfor\u001b[0m \u001b[0mrow\u001b[0m \u001b[0;32min\u001b[0m \u001b[0msoup\u001b[0m\u001b[0;34m.\u001b[0m\u001b[0mfind\u001b[0m\u001b[0;34m(\u001b[0m\u001b[0;34m\"tbody\"\u001b[0m\u001b[0;34m)\u001b[0m\u001b[0;34m.\u001b[0m\u001b[0mfind_all\u001b[0m\u001b[0;34m(\u001b[0m\u001b[0;34m'tr'\u001b[0m\u001b[0;34m)\u001b[0m\u001b[0;34m:\u001b[0m\u001b[0;34m\u001b[0m\u001b[0;34m\u001b[0m\u001b[0m\n\u001b[1;32m      6\u001b[0m     \u001b[0mcol\u001b[0m \u001b[0;34m=\u001b[0m \u001b[0mrow\u001b[0m\u001b[0;34m.\u001b[0m\u001b[0mfind_all\u001b[0m\u001b[0;34m(\u001b[0m\u001b[0;34m\"td\"\u001b[0m\u001b[0;34m)\u001b[0m\u001b[0;34m\u001b[0m\u001b[0;34m\u001b[0m\u001b[0m\n\u001b[1;32m      7\u001b[0m     \u001b[0mdate\u001b[0m \u001b[0;34m=\u001b[0m \u001b[0mcol\u001b[0m\u001b[0;34m[\u001b[0m\u001b[0;36m0\u001b[0m\u001b[0;34m]\u001b[0m\u001b[0;34m.\u001b[0m\u001b[0mtext\u001b[0m\u001b[0;34m\u001b[0m\u001b[0;34m\u001b[0m\u001b[0m\n\u001b[1;32m      8\u001b[0m     \u001b[0mrevenue\u001b[0m \u001b[0;34m=\u001b[0m \u001b[0mcol\u001b[0m\u001b[0;34m[\u001b[0m\u001b[0;36m1\u001b[0m\u001b[0;34m]\u001b[0m\u001b[0;34m.\u001b[0m\u001b[0mtext\u001b[0m\u001b[0;34m\u001b[0m\u001b[0;34m\u001b[0m\u001b[0m\n\u001b[0;32m----> 9\u001b[0;31m     \u001b[0mtesla_revenue\u001b[0m \u001b[0;34m=\u001b[0m \u001b[0mtesla_revenue\u001b[0m\u001b[0;34m.\u001b[0m\u001b[0mappend\u001b[0m\u001b[0;34m(\u001b[0m\u001b[0;34m{\u001b[0m\u001b[0;34m\"Date\"\u001b[0m\u001b[0;34m:\u001b[0m\u001b[0mdate\u001b[0m\u001b[0;34m,\u001b[0m \u001b[0;34m\"Revenue\"\u001b[0m\u001b[0;34m:\u001b[0m\u001b[0mrevenue\u001b[0m\u001b[0;34m}\u001b[0m\u001b[0;34m,\u001b[0m \u001b[0mignore_index\u001b[0m\u001b[0;34m=\u001b[0m\u001b[0;32mTrue\u001b[0m\u001b[0;34m)\u001b[0m\u001b[0;34m\u001b[0m\u001b[0;34m\u001b[0m\u001b[0m\n\u001b[0m",
      "\u001b[0;32m/opt/anaconda3/lib/python3.11/site-packages/pandas/core/generic.py\u001b[0m in \u001b[0;36m?\u001b[0;34m(self, name)\u001b[0m\n\u001b[1;32m   6295\u001b[0m             \u001b[0;32mand\u001b[0m \u001b[0mname\u001b[0m \u001b[0;32mnot\u001b[0m \u001b[0;32min\u001b[0m \u001b[0mself\u001b[0m\u001b[0;34m.\u001b[0m\u001b[0m_accessors\u001b[0m\u001b[0;34m\u001b[0m\u001b[0;34m\u001b[0m\u001b[0m\n\u001b[1;32m   6296\u001b[0m             \u001b[0;32mand\u001b[0m \u001b[0mself\u001b[0m\u001b[0;34m.\u001b[0m\u001b[0m_info_axis\u001b[0m\u001b[0;34m.\u001b[0m\u001b[0m_can_hold_identifiers_and_holds_name\u001b[0m\u001b[0;34m(\u001b[0m\u001b[0mname\u001b[0m\u001b[0;34m)\u001b[0m\u001b[0;34m\u001b[0m\u001b[0;34m\u001b[0m\u001b[0m\n\u001b[1;32m   6297\u001b[0m         ):\n\u001b[1;32m   6298\u001b[0m             \u001b[0;32mreturn\u001b[0m \u001b[0mself\u001b[0m\u001b[0;34m[\u001b[0m\u001b[0mname\u001b[0m\u001b[0;34m]\u001b[0m\u001b[0;34m\u001b[0m\u001b[0;34m\u001b[0m\u001b[0m\n\u001b[0;32m-> 6299\u001b[0;31m         \u001b[0;32mreturn\u001b[0m \u001b[0mobject\u001b[0m\u001b[0;34m.\u001b[0m\u001b[0m__getattribute__\u001b[0m\u001b[0;34m(\u001b[0m\u001b[0mself\u001b[0m\u001b[0;34m,\u001b[0m \u001b[0mname\u001b[0m\u001b[0;34m)\u001b[0m\u001b[0;34m\u001b[0m\u001b[0;34m\u001b[0m\u001b[0m\n\u001b[0m",
      "\u001b[0;31mAttributeError\u001b[0m: 'DataFrame' object has no attribute 'append'"
     ]
    }
   ],
   "source": [
    "#We create an empty dataframe\n",
    "tesla_revenue = pd.DataFrame(columns=[\"Date\", \"Revenue\"])\n",
    "\n",
    "#We extract the desired data from the 'soup' object and save it in the dataframe\n",
    "for row in soup.find(\"tbody\").find_all('tr'):\n",
    "    col = row.find_all(\"td\")\n",
    "    date = col[0].text\n",
    "    revenue = col[1].text\n",
    "    tesla_revenue = tesla_revenue.append({\"Date\":date, \"Revenue\":revenue}, ignore_index=True)"
   ]
  },
  {
   "cell_type": "code",
   "execution_count": 104,
   "id": "64697da8-fa28-4402-912b-89be9e15a7c3",
   "metadata": {},
   "outputs": [
    {
     "data": {
      "text/html": [
       "<div>\n",
       "<style scoped>\n",
       "    .dataframe tbody tr th:only-of-type {\n",
       "        vertical-align: middle;\n",
       "    }\n",
       "\n",
       "    .dataframe tbody tr th {\n",
       "        vertical-align: top;\n",
       "    }\n",
       "\n",
       "    .dataframe thead th {\n",
       "        text-align: right;\n",
       "    }\n",
       "</style>\n",
       "<table border=\"1\" class=\"dataframe\">\n",
       "  <thead>\n",
       "    <tr style=\"text-align: right;\">\n",
       "      <th></th>\n",
       "      <th>Date</th>\n",
       "      <th>Revenue</th>\n",
       "    </tr>\n",
       "  </thead>\n",
       "  <tbody>\n",
       "  </tbody>\n",
       "</table>\n",
       "</div>"
      ],
      "text/plain": [
       "Empty DataFrame\n",
       "Columns: [Date, Revenue]\n",
       "Index: []"
      ]
     },
     "execution_count": 104,
     "metadata": {},
     "output_type": "execute_result"
    }
   ],
   "source": [
    "tesla_revenue[\"Revenue\"] = tesla_revenue['Revenue'].str.replace(',|\\$',\"\")\n",
    "\n",
    "#OPTIONAL: Execute the following lines to remove an null or empty strings in the Revenue column.\n",
    "#tesla_revenue.dropna(inplace=True)\n",
    "#tesla_revenue = tesla_revenue[tesla_revenue['Revenue'] != \"\"]\n",
    "\n",
    "tesla_revenue.head()"
   ]
  },
  {
   "cell_type": "code",
   "execution_count": 106,
   "id": "e718ac6b-433e-4c17-967c-c6a102ce1c22",
   "metadata": {},
   "outputs": [
    {
     "name": "stderr",
     "output_type": "stream",
     "text": [
      "/var/folders/kt/xg8sw3qj0030bwvtfq7ld3f40000gn/T/ipykernel_48760/2068038883.py:5: UserWarning:\n",
      "\n",
      "The argument 'infer_datetime_format' is deprecated and will be removed in a future version. A strict version of it is now the default, see https://pandas.pydata.org/pdeps/0004-consistent-to-datetime-parsing.html. You can safely remove this argument.\n",
      "\n",
      "/var/folders/kt/xg8sw3qj0030bwvtfq7ld3f40000gn/T/ipykernel_48760/2068038883.py:6: UserWarning:\n",
      "\n",
      "The argument 'infer_datetime_format' is deprecated and will be removed in a future version. A strict version of it is now the default, see https://pandas.pydata.org/pdeps/0004-consistent-to-datetime-parsing.html. You can safely remove this argument.\n",
      "\n"
     ]
    },
    {
     "data": {
      "application/vnd.plotly.v1+json": {
       "config": {
        "plotlyServerURL": "https://plot.ly"
       },
       "data": [
        {
         "name": "Share Price",
         "type": "scatter",
         "x": [
          "2019-06-27T00:00:00-04:00",
          "2019-06-28T00:00:00-04:00",
          "2019-07-01T00:00:00-04:00",
          "2019-07-02T00:00:00-04:00",
          "2019-07-03T00:00:00-04:00",
          "2019-07-05T00:00:00-04:00",
          "2019-07-08T00:00:00-04:00",
          "2019-07-09T00:00:00-04:00",
          "2019-07-10T00:00:00-04:00",
          "2019-07-11T00:00:00-04:00",
          "2019-07-12T00:00:00-04:00",
          "2019-07-15T00:00:00-04:00",
          "2019-07-16T00:00:00-04:00",
          "2019-07-17T00:00:00-04:00",
          "2019-07-18T00:00:00-04:00",
          "2019-07-19T00:00:00-04:00",
          "2019-07-22T00:00:00-04:00",
          "2019-07-23T00:00:00-04:00",
          "2019-07-24T00:00:00-04:00",
          "2019-07-25T00:00:00-04:00",
          "2019-07-26T00:00:00-04:00",
          "2019-07-29T00:00:00-04:00",
          "2019-07-30T00:00:00-04:00",
          "2019-07-31T00:00:00-04:00",
          "2019-08-01T00:00:00-04:00",
          "2019-08-02T00:00:00-04:00",
          "2019-08-05T00:00:00-04:00",
          "2019-08-06T00:00:00-04:00",
          "2019-08-07T00:00:00-04:00",
          "2019-08-08T00:00:00-04:00",
          "2019-08-09T00:00:00-04:00",
          "2019-08-12T00:00:00-04:00",
          "2019-08-13T00:00:00-04:00",
          "2019-08-14T00:00:00-04:00",
          "2019-08-15T00:00:00-04:00",
          "2019-08-16T00:00:00-04:00",
          "2019-08-19T00:00:00-04:00",
          "2019-08-20T00:00:00-04:00",
          "2019-08-21T00:00:00-04:00",
          "2019-08-22T00:00:00-04:00",
          "2019-08-23T00:00:00-04:00",
          "2019-08-26T00:00:00-04:00",
          "2019-08-27T00:00:00-04:00",
          "2019-08-28T00:00:00-04:00",
          "2019-08-29T00:00:00-04:00",
          "2019-08-30T00:00:00-04:00",
          "2019-09-03T00:00:00-04:00",
          "2019-09-04T00:00:00-04:00",
          "2019-09-05T00:00:00-04:00",
          "2019-09-06T00:00:00-04:00",
          "2019-09-09T00:00:00-04:00",
          "2019-09-10T00:00:00-04:00",
          "2019-09-11T00:00:00-04:00",
          "2019-09-12T00:00:00-04:00",
          "2019-09-13T00:00:00-04:00",
          "2019-09-16T00:00:00-04:00",
          "2019-09-17T00:00:00-04:00",
          "2019-09-18T00:00:00-04:00",
          "2019-09-19T00:00:00-04:00",
          "2019-09-20T00:00:00-04:00",
          "2019-09-23T00:00:00-04:00",
          "2019-09-24T00:00:00-04:00",
          "2019-09-25T00:00:00-04:00",
          "2019-09-26T00:00:00-04:00",
          "2019-09-27T00:00:00-04:00",
          "2019-09-30T00:00:00-04:00",
          "2019-10-01T00:00:00-04:00",
          "2019-10-02T00:00:00-04:00",
          "2019-10-03T00:00:00-04:00",
          "2019-10-04T00:00:00-04:00",
          "2019-10-07T00:00:00-04:00",
          "2019-10-08T00:00:00-04:00",
          "2019-10-09T00:00:00-04:00",
          "2019-10-10T00:00:00-04:00",
          "2019-10-11T00:00:00-04:00",
          "2019-10-14T00:00:00-04:00",
          "2019-10-15T00:00:00-04:00",
          "2019-10-16T00:00:00-04:00",
          "2019-10-17T00:00:00-04:00",
          "2019-10-18T00:00:00-04:00",
          "2019-10-21T00:00:00-04:00",
          "2019-10-22T00:00:00-04:00",
          "2019-10-23T00:00:00-04:00",
          "2019-10-24T00:00:00-04:00",
          "2019-10-25T00:00:00-04:00",
          "2019-10-28T00:00:00-04:00",
          "2019-10-29T00:00:00-04:00",
          "2019-10-30T00:00:00-04:00",
          "2019-10-31T00:00:00-04:00",
          "2019-11-01T00:00:00-04:00",
          "2019-11-04T00:00:00-05:00",
          "2019-11-05T00:00:00-05:00",
          "2019-11-06T00:00:00-05:00",
          "2019-11-07T00:00:00-05:00",
          "2019-11-08T00:00:00-05:00",
          "2019-11-11T00:00:00-05:00",
          "2019-11-12T00:00:00-05:00",
          "2019-11-13T00:00:00-05:00",
          "2019-11-14T00:00:00-05:00",
          "2019-11-15T00:00:00-05:00",
          "2019-11-18T00:00:00-05:00",
          "2019-11-19T00:00:00-05:00",
          "2019-11-20T00:00:00-05:00",
          "2019-11-21T00:00:00-05:00",
          "2019-11-22T00:00:00-05:00",
          "2019-11-25T00:00:00-05:00",
          "2019-11-26T00:00:00-05:00",
          "2019-11-27T00:00:00-05:00",
          "2019-11-29T00:00:00-05:00",
          "2019-12-02T00:00:00-05:00",
          "2019-12-03T00:00:00-05:00",
          "2019-12-04T00:00:00-05:00",
          "2019-12-05T00:00:00-05:00",
          "2019-12-06T00:00:00-05:00",
          "2019-12-09T00:00:00-05:00",
          "2019-12-10T00:00:00-05:00",
          "2019-12-11T00:00:00-05:00",
          "2019-12-12T00:00:00-05:00",
          "2019-12-13T00:00:00-05:00",
          "2019-12-16T00:00:00-05:00",
          "2019-12-17T00:00:00-05:00",
          "2019-12-18T00:00:00-05:00",
          "2019-12-19T00:00:00-05:00",
          "2019-12-20T00:00:00-05:00",
          "2019-12-23T00:00:00-05:00",
          "2019-12-24T00:00:00-05:00",
          "2019-12-26T00:00:00-05:00",
          "2019-12-27T00:00:00-05:00",
          "2019-12-30T00:00:00-05:00",
          "2019-12-31T00:00:00-05:00",
          "2020-01-02T00:00:00-05:00",
          "2020-01-03T00:00:00-05:00",
          "2020-01-06T00:00:00-05:00",
          "2020-01-07T00:00:00-05:00",
          "2020-01-08T00:00:00-05:00",
          "2020-01-09T00:00:00-05:00",
          "2020-01-10T00:00:00-05:00",
          "2020-01-13T00:00:00-05:00",
          "2020-01-14T00:00:00-05:00",
          "2020-01-15T00:00:00-05:00",
          "2020-01-16T00:00:00-05:00",
          "2020-01-17T00:00:00-05:00",
          "2020-01-21T00:00:00-05:00",
          "2020-01-22T00:00:00-05:00",
          "2020-01-23T00:00:00-05:00",
          "2020-01-24T00:00:00-05:00",
          "2020-01-27T00:00:00-05:00",
          "2020-01-28T00:00:00-05:00",
          "2020-01-29T00:00:00-05:00",
          "2020-01-30T00:00:00-05:00",
          "2020-01-31T00:00:00-05:00",
          "2020-02-03T00:00:00-05:00",
          "2020-02-04T00:00:00-05:00",
          "2020-02-05T00:00:00-05:00",
          "2020-02-06T00:00:00-05:00",
          "2020-02-07T00:00:00-05:00",
          "2020-02-10T00:00:00-05:00",
          "2020-02-11T00:00:00-05:00",
          "2020-02-12T00:00:00-05:00",
          "2020-02-13T00:00:00-05:00",
          "2020-02-14T00:00:00-05:00",
          "2020-02-18T00:00:00-05:00",
          "2020-02-19T00:00:00-05:00",
          "2020-02-20T00:00:00-05:00",
          "2020-02-21T00:00:00-05:00",
          "2020-02-24T00:00:00-05:00",
          "2020-02-25T00:00:00-05:00",
          "2020-02-26T00:00:00-05:00",
          "2020-02-27T00:00:00-05:00",
          "2020-02-28T00:00:00-05:00",
          "2020-03-02T00:00:00-05:00",
          "2020-03-03T00:00:00-05:00",
          "2020-03-04T00:00:00-05:00",
          "2020-03-05T00:00:00-05:00",
          "2020-03-06T00:00:00-05:00",
          "2020-03-09T00:00:00-04:00",
          "2020-03-10T00:00:00-04:00",
          "2020-03-11T00:00:00-04:00",
          "2020-03-12T00:00:00-04:00",
          "2020-03-13T00:00:00-04:00",
          "2020-03-16T00:00:00-04:00",
          "2020-03-17T00:00:00-04:00",
          "2020-03-18T00:00:00-04:00",
          "2020-03-19T00:00:00-04:00",
          "2020-03-20T00:00:00-04:00",
          "2020-03-23T00:00:00-04:00",
          "2020-03-24T00:00:00-04:00",
          "2020-03-25T00:00:00-04:00",
          "2020-03-26T00:00:00-04:00",
          "2020-03-27T00:00:00-04:00",
          "2020-03-30T00:00:00-04:00",
          "2020-03-31T00:00:00-04:00",
          "2020-04-01T00:00:00-04:00",
          "2020-04-02T00:00:00-04:00",
          "2020-04-03T00:00:00-04:00",
          "2020-04-06T00:00:00-04:00",
          "2020-04-07T00:00:00-04:00",
          "2020-04-08T00:00:00-04:00",
          "2020-04-09T00:00:00-04:00",
          "2020-04-13T00:00:00-04:00",
          "2020-04-14T00:00:00-04:00",
          "2020-04-15T00:00:00-04:00",
          "2020-04-16T00:00:00-04:00",
          "2020-04-17T00:00:00-04:00",
          "2020-04-20T00:00:00-04:00",
          "2020-04-21T00:00:00-04:00",
          "2020-04-22T00:00:00-04:00",
          "2020-04-23T00:00:00-04:00",
          "2020-04-24T00:00:00-04:00",
          "2020-04-27T00:00:00-04:00",
          "2020-04-28T00:00:00-04:00",
          "2020-04-29T00:00:00-04:00",
          "2020-04-30T00:00:00-04:00",
          "2020-05-01T00:00:00-04:00",
          "2020-05-04T00:00:00-04:00",
          "2020-05-05T00:00:00-04:00",
          "2020-05-06T00:00:00-04:00",
          "2020-05-07T00:00:00-04:00",
          "2020-05-08T00:00:00-04:00",
          "2020-05-11T00:00:00-04:00",
          "2020-05-12T00:00:00-04:00",
          "2020-05-13T00:00:00-04:00",
          "2020-05-14T00:00:00-04:00",
          "2020-05-15T00:00:00-04:00",
          "2020-05-18T00:00:00-04:00",
          "2020-05-19T00:00:00-04:00",
          "2020-05-20T00:00:00-04:00",
          "2020-05-21T00:00:00-04:00",
          "2020-05-22T00:00:00-04:00",
          "2020-05-26T00:00:00-04:00",
          "2020-05-27T00:00:00-04:00",
          "2020-05-28T00:00:00-04:00",
          "2020-05-29T00:00:00-04:00",
          "2020-06-01T00:00:00-04:00",
          "2020-06-02T00:00:00-04:00",
          "2020-06-03T00:00:00-04:00",
          "2020-06-04T00:00:00-04:00",
          "2020-06-05T00:00:00-04:00",
          "2020-06-08T00:00:00-04:00",
          "2020-06-09T00:00:00-04:00",
          "2020-06-10T00:00:00-04:00",
          "2020-06-11T00:00:00-04:00",
          "2020-06-12T00:00:00-04:00",
          "2020-06-15T00:00:00-04:00",
          "2020-06-16T00:00:00-04:00",
          "2020-06-17T00:00:00-04:00",
          "2020-06-18T00:00:00-04:00",
          "2020-06-19T00:00:00-04:00",
          "2020-06-22T00:00:00-04:00",
          "2020-06-23T00:00:00-04:00",
          "2020-06-24T00:00:00-04:00",
          "2020-06-25T00:00:00-04:00",
          "2020-06-26T00:00:00-04:00",
          "2020-06-29T00:00:00-04:00",
          "2020-06-30T00:00:00-04:00",
          "2020-07-01T00:00:00-04:00",
          "2020-07-02T00:00:00-04:00",
          "2020-07-06T00:00:00-04:00",
          "2020-07-07T00:00:00-04:00",
          "2020-07-08T00:00:00-04:00",
          "2020-07-09T00:00:00-04:00",
          "2020-07-10T00:00:00-04:00",
          "2020-07-13T00:00:00-04:00",
          "2020-07-14T00:00:00-04:00",
          "2020-07-15T00:00:00-04:00",
          "2020-07-16T00:00:00-04:00",
          "2020-07-17T00:00:00-04:00",
          "2020-07-20T00:00:00-04:00",
          "2020-07-21T00:00:00-04:00",
          "2020-07-22T00:00:00-04:00",
          "2020-07-23T00:00:00-04:00",
          "2020-07-24T00:00:00-04:00",
          "2020-07-27T00:00:00-04:00",
          "2020-07-28T00:00:00-04:00",
          "2020-07-29T00:00:00-04:00",
          "2020-07-30T00:00:00-04:00",
          "2020-07-31T00:00:00-04:00",
          "2020-08-03T00:00:00-04:00",
          "2020-08-04T00:00:00-04:00",
          "2020-08-05T00:00:00-04:00",
          "2020-08-06T00:00:00-04:00",
          "2020-08-07T00:00:00-04:00",
          "2020-08-10T00:00:00-04:00",
          "2020-08-11T00:00:00-04:00",
          "2020-08-12T00:00:00-04:00",
          "2020-08-13T00:00:00-04:00",
          "2020-08-14T00:00:00-04:00",
          "2020-08-17T00:00:00-04:00",
          "2020-08-18T00:00:00-04:00",
          "2020-08-19T00:00:00-04:00",
          "2020-08-20T00:00:00-04:00",
          "2020-08-21T00:00:00-04:00",
          "2020-08-24T00:00:00-04:00",
          "2020-08-25T00:00:00-04:00",
          "2020-08-26T00:00:00-04:00",
          "2020-08-27T00:00:00-04:00",
          "2020-08-28T00:00:00-04:00",
          "2020-08-31T00:00:00-04:00",
          "2020-09-01T00:00:00-04:00",
          "2020-09-02T00:00:00-04:00",
          "2020-09-03T00:00:00-04:00",
          "2020-09-04T00:00:00-04:00",
          "2020-09-08T00:00:00-04:00",
          "2020-09-09T00:00:00-04:00",
          "2020-09-10T00:00:00-04:00",
          "2020-09-11T00:00:00-04:00",
          "2020-09-14T00:00:00-04:00",
          "2020-09-15T00:00:00-04:00",
          "2020-09-16T00:00:00-04:00",
          "2020-09-17T00:00:00-04:00",
          "2020-09-18T00:00:00-04:00",
          "2020-09-21T00:00:00-04:00",
          "2020-09-22T00:00:00-04:00",
          "2020-09-23T00:00:00-04:00",
          "2020-09-24T00:00:00-04:00",
          "2020-09-25T00:00:00-04:00",
          "2020-09-28T00:00:00-04:00",
          "2020-09-29T00:00:00-04:00",
          "2020-09-30T00:00:00-04:00",
          "2020-10-01T00:00:00-04:00",
          "2020-10-02T00:00:00-04:00",
          "2020-10-05T00:00:00-04:00",
          "2020-10-06T00:00:00-04:00",
          "2020-10-07T00:00:00-04:00",
          "2020-10-08T00:00:00-04:00",
          "2020-10-09T00:00:00-04:00",
          "2020-10-12T00:00:00-04:00",
          "2020-10-13T00:00:00-04:00",
          "2020-10-14T00:00:00-04:00",
          "2020-10-15T00:00:00-04:00",
          "2020-10-16T00:00:00-04:00",
          "2020-10-19T00:00:00-04:00",
          "2020-10-20T00:00:00-04:00",
          "2020-10-21T00:00:00-04:00",
          "2020-10-22T00:00:00-04:00",
          "2020-10-23T00:00:00-04:00",
          "2020-10-26T00:00:00-04:00",
          "2020-10-27T00:00:00-04:00",
          "2020-10-28T00:00:00-04:00",
          "2020-10-29T00:00:00-04:00",
          "2020-10-30T00:00:00-04:00",
          "2020-11-02T00:00:00-05:00",
          "2020-11-03T00:00:00-05:00",
          "2020-11-04T00:00:00-05:00",
          "2020-11-05T00:00:00-05:00",
          "2020-11-06T00:00:00-05:00",
          "2020-11-09T00:00:00-05:00",
          "2020-11-10T00:00:00-05:00",
          "2020-11-11T00:00:00-05:00",
          "2020-11-12T00:00:00-05:00",
          "2020-11-13T00:00:00-05:00",
          "2020-11-16T00:00:00-05:00",
          "2020-11-17T00:00:00-05:00",
          "2020-11-18T00:00:00-05:00",
          "2020-11-19T00:00:00-05:00",
          "2020-11-20T00:00:00-05:00",
          "2020-11-23T00:00:00-05:00",
          "2020-11-24T00:00:00-05:00",
          "2020-11-25T00:00:00-05:00",
          "2020-11-27T00:00:00-05:00",
          "2020-11-30T00:00:00-05:00",
          "2020-12-01T00:00:00-05:00",
          "2020-12-02T00:00:00-05:00",
          "2020-12-03T00:00:00-05:00",
          "2020-12-04T00:00:00-05:00",
          "2020-12-07T00:00:00-05:00",
          "2020-12-08T00:00:00-05:00",
          "2020-12-09T00:00:00-05:00",
          "2020-12-10T00:00:00-05:00",
          "2020-12-11T00:00:00-05:00",
          "2020-12-14T00:00:00-05:00",
          "2020-12-15T00:00:00-05:00",
          "2020-12-16T00:00:00-05:00",
          "2020-12-17T00:00:00-05:00",
          "2020-12-18T00:00:00-05:00",
          "2020-12-21T00:00:00-05:00",
          "2020-12-22T00:00:00-05:00",
          "2020-12-23T00:00:00-05:00",
          "2020-12-24T00:00:00-05:00",
          "2020-12-28T00:00:00-05:00",
          "2020-12-29T00:00:00-05:00",
          "2020-12-30T00:00:00-05:00",
          "2020-12-31T00:00:00-05:00",
          "2021-01-04T00:00:00-05:00",
          "2021-01-05T00:00:00-05:00",
          "2021-01-06T00:00:00-05:00",
          "2021-01-07T00:00:00-05:00",
          "2021-01-08T00:00:00-05:00",
          "2021-01-11T00:00:00-05:00",
          "2021-01-12T00:00:00-05:00",
          "2021-01-13T00:00:00-05:00",
          "2021-01-14T00:00:00-05:00",
          "2021-01-15T00:00:00-05:00",
          "2021-01-19T00:00:00-05:00",
          "2021-01-20T00:00:00-05:00",
          "2021-01-21T00:00:00-05:00",
          "2021-01-22T00:00:00-05:00",
          "2021-01-25T00:00:00-05:00",
          "2021-01-26T00:00:00-05:00",
          "2021-01-27T00:00:00-05:00",
          "2021-01-28T00:00:00-05:00",
          "2021-01-29T00:00:00-05:00",
          "2021-02-01T00:00:00-05:00",
          "2021-02-02T00:00:00-05:00",
          "2021-02-03T00:00:00-05:00",
          "2021-02-04T00:00:00-05:00",
          "2021-02-05T00:00:00-05:00",
          "2021-02-08T00:00:00-05:00",
          "2021-02-09T00:00:00-05:00",
          "2021-02-10T00:00:00-05:00",
          "2021-02-11T00:00:00-05:00",
          "2021-02-12T00:00:00-05:00",
          "2021-02-16T00:00:00-05:00",
          "2021-02-17T00:00:00-05:00",
          "2021-02-18T00:00:00-05:00",
          "2021-02-19T00:00:00-05:00",
          "2021-02-22T00:00:00-05:00",
          "2021-02-23T00:00:00-05:00",
          "2021-02-24T00:00:00-05:00",
          "2021-02-25T00:00:00-05:00",
          "2021-02-26T00:00:00-05:00",
          "2021-03-01T00:00:00-05:00",
          "2021-03-02T00:00:00-05:00",
          "2021-03-03T00:00:00-05:00",
          "2021-03-04T00:00:00-05:00",
          "2021-03-05T00:00:00-05:00",
          "2021-03-08T00:00:00-05:00",
          "2021-03-09T00:00:00-05:00",
          "2021-03-10T00:00:00-05:00",
          "2021-03-11T00:00:00-05:00",
          "2021-03-12T00:00:00-05:00",
          "2021-03-15T00:00:00-04:00",
          "2021-03-16T00:00:00-04:00",
          "2021-03-17T00:00:00-04:00",
          "2021-03-18T00:00:00-04:00",
          "2021-03-19T00:00:00-04:00",
          "2021-03-22T00:00:00-04:00",
          "2021-03-23T00:00:00-04:00",
          "2021-03-24T00:00:00-04:00",
          "2021-03-25T00:00:00-04:00",
          "2021-03-26T00:00:00-04:00",
          "2021-03-29T00:00:00-04:00",
          "2021-03-30T00:00:00-04:00",
          "2021-03-31T00:00:00-04:00",
          "2021-04-01T00:00:00-04:00",
          "2021-04-05T00:00:00-04:00",
          "2021-04-06T00:00:00-04:00",
          "2021-04-07T00:00:00-04:00",
          "2021-04-08T00:00:00-04:00",
          "2021-04-09T00:00:00-04:00",
          "2021-04-12T00:00:00-04:00",
          "2021-04-13T00:00:00-04:00",
          "2021-04-14T00:00:00-04:00",
          "2021-04-15T00:00:00-04:00",
          "2021-04-16T00:00:00-04:00",
          "2021-04-19T00:00:00-04:00",
          "2021-04-20T00:00:00-04:00",
          "2021-04-21T00:00:00-04:00",
          "2021-04-22T00:00:00-04:00",
          "2021-04-23T00:00:00-04:00",
          "2021-04-26T00:00:00-04:00",
          "2021-04-27T00:00:00-04:00",
          "2021-04-28T00:00:00-04:00",
          "2021-04-29T00:00:00-04:00",
          "2021-04-30T00:00:00-04:00",
          "2021-05-03T00:00:00-04:00",
          "2021-05-04T00:00:00-04:00",
          "2021-05-05T00:00:00-04:00",
          "2021-05-06T00:00:00-04:00",
          "2021-05-07T00:00:00-04:00",
          "2021-05-10T00:00:00-04:00",
          "2021-05-11T00:00:00-04:00",
          "2021-05-12T00:00:00-04:00",
          "2021-05-13T00:00:00-04:00",
          "2021-05-14T00:00:00-04:00",
          "2021-05-17T00:00:00-04:00",
          "2021-05-18T00:00:00-04:00",
          "2021-05-19T00:00:00-04:00",
          "2021-05-20T00:00:00-04:00",
          "2021-05-21T00:00:00-04:00",
          "2021-05-24T00:00:00-04:00",
          "2021-05-25T00:00:00-04:00",
          "2021-05-26T00:00:00-04:00",
          "2021-05-27T00:00:00-04:00",
          "2021-05-28T00:00:00-04:00",
          "2021-06-01T00:00:00-04:00",
          "2021-06-02T00:00:00-04:00",
          "2021-06-03T00:00:00-04:00",
          "2021-06-04T00:00:00-04:00",
          "2021-06-07T00:00:00-04:00",
          "2021-06-08T00:00:00-04:00",
          "2021-06-09T00:00:00-04:00",
          "2021-06-10T00:00:00-04:00",
          "2021-06-11T00:00:00-04:00",
          "2021-06-14T00:00:00-04:00"
         ],
         "xaxis": "x",
         "y": [
          14.855999946594238,
          14.897333145141602,
          15.14466667175293,
          14.970000267028809,
          15.65999984741211,
          15.539999961853027,
          15.355999946594238,
          15.337332725524902,
          15.928000450134277,
          15.90666675567627,
          16.338666915893555,
          16.899999618530273,
          16.825332641601562,
          16.99066734313965,
          16.902666091918945,
          17.211999893188477,
          17.045333862304688,
          17.344667434692383,
          17.658666610717773,
          15.254667282104492,
          15.202667236328125,
          15.718000411987305,
          16.150667190551758,
          16.107332229614258,
          15.59000015258789,
          15.62266731262207,
          15.221332550048828,
          15.383333206176758,
          15.561332702636719,
          15.886667251586914,
          15.667332649230957,
          15.267333030700684,
          15.666666984558105,
          14.641332626342773,
          14.37600040435791,
          14.662667274475098,
          15.121999740600586,
          15.057332992553711,
          14.722000122070312,
          14.8100004196167,
          14.09333324432373,
          14.333333015441895,
          14.272000312805176,
          14.37266731262207,
          14.780667304992676,
          15.040666580200195,
          15.000666618347168,
          14.711999893188477,
          15.305333137512207,
          15.16333293914795,
          15.452667236328125,
          15.702667236328125,
          16.47333335876465,
          16.391332626342773,
          16.34666633605957,
          16.187332153320312,
          16.319332122802734,
          16.232667922973633,
          16.440000534057617,
          16.041332244873047,
          16.082000732421875,
          14.880666732788086,
          15.24666690826416,
          16.17066764831543,
          16.142000198364258,
          16.058000564575195,
          16.312667846679688,
          16.208667755126953,
          15.535332679748535,
          15.428667068481445,
          15.847999572753906,
          16.003332138061523,
          16.302000045776367,
          16.31599998474121,
          16.525999069213867,
          17.130666732788086,
          17.19266700744629,
          17.316667556762695,
          17.46466636657715,
          17.1299991607666,
          16.899999618530273,
          17.038667678833008,
          16.978666305541992,
          19.978666305541992,
          21.875333786010742,
          21.847333908081055,
          21.08133316040039,
          21.000667572021484,
          20.994667053222656,
          20.887332916259766,
          21.1646671295166,
          21.148000717163086,
          21.77199935913086,
          22.369333267211914,
          22.47599983215332,
          23.006000518798828,
          23.32866668701172,
          23.073999404907227,
          23.290000915527344,
          23.47800064086914,
          23.332666397094727,
          23.968000411987305,
          23.481332778930664,
          23.655332565307617,
          22.202667236328125,
          22.422666549682617,
          21.92799949645996,
          22.086000442504883,
          21.996000289916992,
          22.32466697692871,
          22.413333892822266,
          22.20199966430664,
          22.024667739868164,
          22.392667770385742,
          22.635332107543945,
          23.256000518798828,
          23.51333236694336,
          23.978666305541992,
          23.892667770385742,
          25.433332443237305,
          25.266000747680664,
          26.209999084472656,
          26.93600082397461,
          27.03933334350586,
          27.947999954223633,
          28.350000381469727,
          28.729333877563477,
          28.691999435424805,
          27.64666748046875,
          27.8886661529541,
          28.68400001525879,
          29.534000396728516,
          30.1026668548584,
          31.270666122436523,
          32.80933380126953,
          32.089332580566406,
          31.876667022705078,
          34.990665435791016,
          35.861331939697266,
          34.56666564941406,
          34.232666015625,
          34.03333282470703,
          36.47999954223633,
          37.97066879272461,
          38.14666748046875,
          37.654666900634766,
          37.201332092285156,
          37.793331146240234,
          38.732666015625,
          42.72066879272461,
          43.371334075927734,
          52,
          59.137332916259766,
          48.97999954223633,
          49.930667877197266,
          49.871334075927734,
          51.41866683959961,
          51.62533187866211,
          51.15266799926758,
          53.599998474121094,
          53.33533477783203,
          57.22666549682617,
          61.16133117675781,
          59.96066665649414,
          60.06666564941406,
          55.58599853515625,
          53.32733154296875,
          51.91999816894531,
          45.266666412353516,
          44.53266525268555,
          49.574668884277344,
          49.70066833496094,
          49.96666717529297,
          48.30266571044922,
          46.89866638183594,
          40.53333282470703,
          43.02199935913086,
          42.28200149536133,
          37.369998931884766,
          36.44133377075195,
          29.67133331298828,
          28.68000030517578,
          24.08133316040039,
          28.50933265686035,
          28.50200080871582,
          28.952667236328125,
          33.66666793823242,
          35.95000076293945,
          35.21066665649414,
          34.29066848754883,
          33.47533416748047,
          34.93333435058594,
          32.104000091552734,
          30.29800033569336,
          32.000667572021484,
          34.41600036621094,
          36.36333465576172,
          36.589332580566406,
          38.20000076293945,
          43.39666748046875,
          47.32600021362305,
          48.65533447265625,
          49.680667877197266,
          50.259334564208984,
          49.75733184814453,
          45.781333923339844,
          48.807334899902344,
          47.04199981689453,
          48.34333419799805,
          53.25,
          51.27466583251953,
          53.367332458496094,
          52.12533187866211,
          46.75466537475586,
          50.74599838256836,
          51.2140007019043,
          52.172000885009766,
          52.00266647338867,
          54.62799835205078,
          54.08599853515625,
          53.96066665649414,
          52.73066711425781,
          53.55533218383789,
          53.27799987792969,
          54.242000579833984,
          53.867332458496094,
          54.37066650390625,
          55.17333221435547,
          54.45866775512695,
          54.591331481933594,
          54.68199920654297,
          53.72066879272461,
          55.66666793823242,
          59.87333297729492,
          58.770668029785156,
          58.86399841308594,
          57.62533187866211,
          59.04399871826172,
          63.327999114990234,
          62.711334228515625,
          68.336669921875,
          64.85600280761719,
          62.35200119018555,
          66.05999755859375,
          65.47533416748047,
          66.11933135986328,
          66.9306640625,
          66.72666931152344,
          66.28800201416016,
          66.78533172607422,
          64.0566635131836,
          65.73200225830078,
          63.982666015625,
          67.29000091552734,
          71.98733520507812,
          74.64199829101562,
          80.57733154296875,
          91.43866729736328,
          92.65733337402344,
          91.05867004394531,
          92.9520034790039,
          102.97666931152344,
          99.80400085449219,
          101.12000274658203,
          103.06732940673828,
          100.04266357421875,
          100.05599975585938,
          109.53333282470703,
          104.55733489990234,
          106.15533447265625,
          100.87133026123047,
          94.46666717529297,
          102.63999938964844,
          98.43267059326172,
          99.94066619873047,
          99.16600036621094,
          95.38400268554688,
          99,
          99.13333129882812,
          99.00133514404297,
          99.30533599853516,
          96.84733581542969,
          94.57133483886719,
          91.6259994506836,
          103.65066528320312,
          108.06666564941406,
          110.04733276367188,
          122.3759994506836,
          125.80599975585938,
          125.23533630371094,
          133.45533752441406,
          136.6653289794922,
          134.27999877929688,
          134.8893280029297,
          143.54466247558594,
          149.25,
          147.55999755859375,
          166.10667419433594,
          158.35000610351562,
          149.1233367919922,
          135.6666717529297,
          139.44000244140625,
          110.06999969482422,
          122.09333038330078,
          123.77999877929688,
          124.23999786376953,
          139.8733367919922,
          149.9199981689453,
          147.25332641601562,
          141.14332580566406,
          147.38333129882812,
          149.79666137695312,
          141.41000366210938,
          126.78666687011719,
          129.26333618164062,
          135.77999877929688,
          140.39999389648438,
          139.69000244140625,
          143.00332641601562,
          149.3866729736328,
          138.3633270263672,
          141.89332580566406,
          137.9933319091797,
          141.76666259765625,
          141.97332763671875,
          144.6666717529297,
          147.43333435058594,
          148.88333129882812,
          153.76666259765625,
          149.6266632080078,
          146.55667114257812,
          143.61000061035156,
          140.64666748046875,
          140.8800048828125,
          141.92999267578125,
          140.2100067138672,
          140.0933380126953,
          141.55999755859375,
          135.33999633789062,
          136.94332885742188,
          129.34666442871094,
          133.50332641601562,
          141.3000030517578,
          140.32666015625,
          146.02999877929688,
          143.31666564941406,
          140.4199981689453,
          136.7866668701172,
          139.0433349609375,
          137.25332641601562,
          136.1666717529297,
          136.02999877929688,
          147.20333862304688,
          162.2133331298828,
          166.42333984375,
          163.20333862304688,
          173.9499969482422,
          185.1266632080078,
          191.3333282470703,
          195.25332641601562,
          189.1999969482422,
          194.9199981689453,
          189.60667419433594,
          197.7933349609375,
          199.67999267578125,
          213.9199981689453,
          216.6266632080078,
          201.4933319091797,
          209.02333068847656,
          203.3300018310547,
          213.27667236328125,
          211.0833282470703,
          207.58999633789062,
          218.63333129882812,
          231.6666717529297,
          216.6199951171875,
          213.44667053222656,
          215.32666015625,
          220.58999633789062,
          221.22999572753906,
          221.99667358398438,
          231.5933380126953,
          235.22332763671875,
          243.2566680908203,
          245.0366668701172,
          251.9933319091797,
          272.0133361816406,
          293.3399963378906,
          270.39666748046875,
          283.14666748046875,
          284.8033447265625,
          281.6666564941406,
          275.38665771484375,
          281.51666259765625,
          283.48333740234375,
          281.663330078125,
          282.21331787109375,
          293.6000061035156,
          294.36334228515625,
          288.0533447265625,
          278.4766540527344,
          264.510009765625,
          279.9366760253906,
          290.92999267578125,
          284.89666748046875,
          283.3299865722656,
          284.07666015625,
          287.8066711425781,
          283.1533203125,
          268.2733459472656,
          270.5533447265625,
          272.0400085449219,
          265.40667724609375,
          266.04998779296875,
          262.4599914550781,
          260.4333190917969,
          238.1666717529297,
          232.94667053222656,
          247.33999633789062,
          227.4066619873047,
          225.1666717529297,
          239.47666931152344,
          228.81333923339844,
          217.73333740234375,
          207.14666748046875,
          199.31666564941406,
          187.6666717529297,
          224.52667236328125,
          222.68666076660156,
          233.1999969482422,
          231.2433319091797,
          235.97999572753906,
          225.6266632080078,
          233.93666076660156,
          217.72000122070312,
          218.2899932861328,
          223.3333282470703,
          220.72000122070312,
          210.08999633789062,
          213.4633331298828,
          206.23666381835938,
          203.76333618164062,
          211.8733367919922,
          222.64332580566406,
          220.5833282470703,
          230.35000610351562,
          230.5399932861328,
          223.6566619873047,
          227.93333435058594,
          225.67333984375,
          233.9933319091797,
          254.10667419433594,
          244.07666015625,
          246.28334045410156,
          246.5933380126953,
          238.2100067138672,
          239.663330078125,
          248.0399932861328,
          239.89666748046875,
          243.13333129882812,
          246.06666564941406,
          234.913330078125,
          231.46665954589844,
          225.6666717529297,
          236.47999572753906,
          228.3000030517578,
          224.53334045410156,
          223.64666748046875,
          221.17999267578125,
          224.1233367919922,
          209.67999267578125,
          205.73333740234375,
          196.6300048828125,
          190.56333923339844,
          196.5800018310547,
          192.27667236328125,
          192.6233367919922,
          187.82000732421875,
          195.5933380126953,
          193.6266632080078,
          202.14666748046875,
          201.56333923339844,
          206.3766632080078,
          210.28334045410156,
          208.4066619873047,
          207.96665954589844,
          201.7066650390625,
          190.94667053222656,
          199.68333435058594,
          201.7100067138672,
          201.19667053222656,
          199.5933380126953,
          203.3733367919922,
          203.29666137695312,
          205.89666748046875
         ],
         "yaxis": "y"
        },
        {
         "name": "Revenue",
         "type": "scatter",
         "x": [],
         "xaxis": "x2",
         "y": [],
         "yaxis": "y2"
        }
       ],
       "layout": {
        "annotations": [
         {
          "font": {
           "size": 16
          },
          "showarrow": false,
          "text": "Historical Share Price",
          "x": 0.5,
          "xanchor": "center",
          "xref": "paper",
          "y": 0.9999999999999999,
          "yanchor": "bottom",
          "yref": "paper"
         },
         {
          "font": {
           "size": 16
          },
          "showarrow": false,
          "text": "Historical Revenue",
          "x": 0.5,
          "xanchor": "center",
          "xref": "paper",
          "y": 0.35,
          "yanchor": "bottom",
          "yref": "paper"
         }
        ],
        "autosize": true,
        "showlegend": false,
        "template": {
         "data": {
          "bar": [
           {
            "error_x": {
             "color": "#2a3f5f"
            },
            "error_y": {
             "color": "#2a3f5f"
            },
            "marker": {
             "line": {
              "color": "#E5ECF6",
              "width": 0.5
             },
             "pattern": {
              "fillmode": "overlay",
              "size": 10,
              "solidity": 0.2
             }
            },
            "type": "bar"
           }
          ],
          "barpolar": [
           {
            "marker": {
             "line": {
              "color": "#E5ECF6",
              "width": 0.5
             },
             "pattern": {
              "fillmode": "overlay",
              "size": 10,
              "solidity": 0.2
             }
            },
            "type": "barpolar"
           }
          ],
          "carpet": [
           {
            "aaxis": {
             "endlinecolor": "#2a3f5f",
             "gridcolor": "white",
             "linecolor": "white",
             "minorgridcolor": "white",
             "startlinecolor": "#2a3f5f"
            },
            "baxis": {
             "endlinecolor": "#2a3f5f",
             "gridcolor": "white",
             "linecolor": "white",
             "minorgridcolor": "white",
             "startlinecolor": "#2a3f5f"
            },
            "type": "carpet"
           }
          ],
          "choropleth": [
           {
            "colorbar": {
             "outlinewidth": 0,
             "ticks": ""
            },
            "type": "choropleth"
           }
          ],
          "contour": [
           {
            "colorbar": {
             "outlinewidth": 0,
             "ticks": ""
            },
            "colorscale": [
             [
              0,
              "#0d0887"
             ],
             [
              0.1111111111111111,
              "#46039f"
             ],
             [
              0.2222222222222222,
              "#7201a8"
             ],
             [
              0.3333333333333333,
              "#9c179e"
             ],
             [
              0.4444444444444444,
              "#bd3786"
             ],
             [
              0.5555555555555556,
              "#d8576b"
             ],
             [
              0.6666666666666666,
              "#ed7953"
             ],
             [
              0.7777777777777778,
              "#fb9f3a"
             ],
             [
              0.8888888888888888,
              "#fdca26"
             ],
             [
              1,
              "#f0f921"
             ]
            ],
            "type": "contour"
           }
          ],
          "contourcarpet": [
           {
            "colorbar": {
             "outlinewidth": 0,
             "ticks": ""
            },
            "type": "contourcarpet"
           }
          ],
          "heatmap": [
           {
            "colorbar": {
             "outlinewidth": 0,
             "ticks": ""
            },
            "colorscale": [
             [
              0,
              "#0d0887"
             ],
             [
              0.1111111111111111,
              "#46039f"
             ],
             [
              0.2222222222222222,
              "#7201a8"
             ],
             [
              0.3333333333333333,
              "#9c179e"
             ],
             [
              0.4444444444444444,
              "#bd3786"
             ],
             [
              0.5555555555555556,
              "#d8576b"
             ],
             [
              0.6666666666666666,
              "#ed7953"
             ],
             [
              0.7777777777777778,
              "#fb9f3a"
             ],
             [
              0.8888888888888888,
              "#fdca26"
             ],
             [
              1,
              "#f0f921"
             ]
            ],
            "type": "heatmap"
           }
          ],
          "heatmapgl": [
           {
            "colorbar": {
             "outlinewidth": 0,
             "ticks": ""
            },
            "colorscale": [
             [
              0,
              "#0d0887"
             ],
             [
              0.1111111111111111,
              "#46039f"
             ],
             [
              0.2222222222222222,
              "#7201a8"
             ],
             [
              0.3333333333333333,
              "#9c179e"
             ],
             [
              0.4444444444444444,
              "#bd3786"
             ],
             [
              0.5555555555555556,
              "#d8576b"
             ],
             [
              0.6666666666666666,
              "#ed7953"
             ],
             [
              0.7777777777777778,
              "#fb9f3a"
             ],
             [
              0.8888888888888888,
              "#fdca26"
             ],
             [
              1,
              "#f0f921"
             ]
            ],
            "type": "heatmapgl"
           }
          ],
          "histogram": [
           {
            "marker": {
             "pattern": {
              "fillmode": "overlay",
              "size": 10,
              "solidity": 0.2
             }
            },
            "type": "histogram"
           }
          ],
          "histogram2d": [
           {
            "colorbar": {
             "outlinewidth": 0,
             "ticks": ""
            },
            "colorscale": [
             [
              0,
              "#0d0887"
             ],
             [
              0.1111111111111111,
              "#46039f"
             ],
             [
              0.2222222222222222,
              "#7201a8"
             ],
             [
              0.3333333333333333,
              "#9c179e"
             ],
             [
              0.4444444444444444,
              "#bd3786"
             ],
             [
              0.5555555555555556,
              "#d8576b"
             ],
             [
              0.6666666666666666,
              "#ed7953"
             ],
             [
              0.7777777777777778,
              "#fb9f3a"
             ],
             [
              0.8888888888888888,
              "#fdca26"
             ],
             [
              1,
              "#f0f921"
             ]
            ],
            "type": "histogram2d"
           }
          ],
          "histogram2dcontour": [
           {
            "colorbar": {
             "outlinewidth": 0,
             "ticks": ""
            },
            "colorscale": [
             [
              0,
              "#0d0887"
             ],
             [
              0.1111111111111111,
              "#46039f"
             ],
             [
              0.2222222222222222,
              "#7201a8"
             ],
             [
              0.3333333333333333,
              "#9c179e"
             ],
             [
              0.4444444444444444,
              "#bd3786"
             ],
             [
              0.5555555555555556,
              "#d8576b"
             ],
             [
              0.6666666666666666,
              "#ed7953"
             ],
             [
              0.7777777777777778,
              "#fb9f3a"
             ],
             [
              0.8888888888888888,
              "#fdca26"
             ],
             [
              1,
              "#f0f921"
             ]
            ],
            "type": "histogram2dcontour"
           }
          ],
          "mesh3d": [
           {
            "colorbar": {
             "outlinewidth": 0,
             "ticks": ""
            },
            "type": "mesh3d"
           }
          ],
          "parcoords": [
           {
            "line": {
             "colorbar": {
              "outlinewidth": 0,
              "ticks": ""
             }
            },
            "type": "parcoords"
           }
          ],
          "pie": [
           {
            "automargin": true,
            "type": "pie"
           }
          ],
          "scatter": [
           {
            "fillpattern": {
             "fillmode": "overlay",
             "size": 10,
             "solidity": 0.2
            },
            "type": "scatter"
           }
          ],
          "scatter3d": [
           {
            "line": {
             "colorbar": {
              "outlinewidth": 0,
              "ticks": ""
             }
            },
            "marker": {
             "colorbar": {
              "outlinewidth": 0,
              "ticks": ""
             }
            },
            "type": "scatter3d"
           }
          ],
          "scattercarpet": [
           {
            "marker": {
             "colorbar": {
              "outlinewidth": 0,
              "ticks": ""
             }
            },
            "type": "scattercarpet"
           }
          ],
          "scattergeo": [
           {
            "marker": {
             "colorbar": {
              "outlinewidth": 0,
              "ticks": ""
             }
            },
            "type": "scattergeo"
           }
          ],
          "scattergl": [
           {
            "marker": {
             "colorbar": {
              "outlinewidth": 0,
              "ticks": ""
             }
            },
            "type": "scattergl"
           }
          ],
          "scattermapbox": [
           {
            "marker": {
             "colorbar": {
              "outlinewidth": 0,
              "ticks": ""
             }
            },
            "type": "scattermapbox"
           }
          ],
          "scatterpolar": [
           {
            "marker": {
             "colorbar": {
              "outlinewidth": 0,
              "ticks": ""
             }
            },
            "type": "scatterpolar"
           }
          ],
          "scatterpolargl": [
           {
            "marker": {
             "colorbar": {
              "outlinewidth": 0,
              "ticks": ""
             }
            },
            "type": "scatterpolargl"
           }
          ],
          "scatterternary": [
           {
            "marker": {
             "colorbar": {
              "outlinewidth": 0,
              "ticks": ""
             }
            },
            "type": "scatterternary"
           }
          ],
          "surface": [
           {
            "colorbar": {
             "outlinewidth": 0,
             "ticks": ""
            },
            "colorscale": [
             [
              0,
              "#0d0887"
             ],
             [
              0.1111111111111111,
              "#46039f"
             ],
             [
              0.2222222222222222,
              "#7201a8"
             ],
             [
              0.3333333333333333,
              "#9c179e"
             ],
             [
              0.4444444444444444,
              "#bd3786"
             ],
             [
              0.5555555555555556,
              "#d8576b"
             ],
             [
              0.6666666666666666,
              "#ed7953"
             ],
             [
              0.7777777777777778,
              "#fb9f3a"
             ],
             [
              0.8888888888888888,
              "#fdca26"
             ],
             [
              1,
              "#f0f921"
             ]
            ],
            "type": "surface"
           }
          ],
          "table": [
           {
            "cells": {
             "fill": {
              "color": "#EBF0F8"
             },
             "line": {
              "color": "white"
             }
            },
            "header": {
             "fill": {
              "color": "#C8D4E3"
             },
             "line": {
              "color": "white"
             }
            },
            "type": "table"
           }
          ]
         },
         "layout": {
          "annotationdefaults": {
           "arrowcolor": "#2a3f5f",
           "arrowhead": 0,
           "arrowwidth": 1
          },
          "autotypenumbers": "strict",
          "coloraxis": {
           "colorbar": {
            "outlinewidth": 0,
            "ticks": ""
           }
          },
          "colorscale": {
           "diverging": [
            [
             0,
             "#8e0152"
            ],
            [
             0.1,
             "#c51b7d"
            ],
            [
             0.2,
             "#de77ae"
            ],
            [
             0.3,
             "#f1b6da"
            ],
            [
             0.4,
             "#fde0ef"
            ],
            [
             0.5,
             "#f7f7f7"
            ],
            [
             0.6,
             "#e6f5d0"
            ],
            [
             0.7,
             "#b8e186"
            ],
            [
             0.8,
             "#7fbc41"
            ],
            [
             0.9,
             "#4d9221"
            ],
            [
             1,
             "#276419"
            ]
           ],
           "sequential": [
            [
             0,
             "#0d0887"
            ],
            [
             0.1111111111111111,
             "#46039f"
            ],
            [
             0.2222222222222222,
             "#7201a8"
            ],
            [
             0.3333333333333333,
             "#9c179e"
            ],
            [
             0.4444444444444444,
             "#bd3786"
            ],
            [
             0.5555555555555556,
             "#d8576b"
            ],
            [
             0.6666666666666666,
             "#ed7953"
            ],
            [
             0.7777777777777778,
             "#fb9f3a"
            ],
            [
             0.8888888888888888,
             "#fdca26"
            ],
            [
             1,
             "#f0f921"
            ]
           ],
           "sequentialminus": [
            [
             0,
             "#0d0887"
            ],
            [
             0.1111111111111111,
             "#46039f"
            ],
            [
             0.2222222222222222,
             "#7201a8"
            ],
            [
             0.3333333333333333,
             "#9c179e"
            ],
            [
             0.4444444444444444,
             "#bd3786"
            ],
            [
             0.5555555555555556,
             "#d8576b"
            ],
            [
             0.6666666666666666,
             "#ed7953"
            ],
            [
             0.7777777777777778,
             "#fb9f3a"
            ],
            [
             0.8888888888888888,
             "#fdca26"
            ],
            [
             1,
             "#f0f921"
            ]
           ]
          },
          "colorway": [
           "#636efa",
           "#EF553B",
           "#00cc96",
           "#ab63fa",
           "#FFA15A",
           "#19d3f3",
           "#FF6692",
           "#B6E880",
           "#FF97FF",
           "#FECB52"
          ],
          "font": {
           "color": "#2a3f5f"
          },
          "geo": {
           "bgcolor": "white",
           "lakecolor": "white",
           "landcolor": "#E5ECF6",
           "showlakes": true,
           "showland": true,
           "subunitcolor": "white"
          },
          "hoverlabel": {
           "align": "left"
          },
          "hovermode": "closest",
          "mapbox": {
           "style": "light"
          },
          "paper_bgcolor": "white",
          "plot_bgcolor": "#E5ECF6",
          "polar": {
           "angularaxis": {
            "gridcolor": "white",
            "linecolor": "white",
            "ticks": ""
           },
           "bgcolor": "#E5ECF6",
           "radialaxis": {
            "gridcolor": "white",
            "linecolor": "white",
            "ticks": ""
           }
          },
          "scene": {
           "xaxis": {
            "backgroundcolor": "#E5ECF6",
            "gridcolor": "white",
            "gridwidth": 2,
            "linecolor": "white",
            "showbackground": true,
            "ticks": "",
            "zerolinecolor": "white"
           },
           "yaxis": {
            "backgroundcolor": "#E5ECF6",
            "gridcolor": "white",
            "gridwidth": 2,
            "linecolor": "white",
            "showbackground": true,
            "ticks": "",
            "zerolinecolor": "white"
           },
           "zaxis": {
            "backgroundcolor": "#E5ECF6",
            "gridcolor": "white",
            "gridwidth": 2,
            "linecolor": "white",
            "showbackground": true,
            "ticks": "",
            "zerolinecolor": "white"
           }
          },
          "shapedefaults": {
           "line": {
            "color": "#2a3f5f"
           }
          },
          "ternary": {
           "aaxis": {
            "gridcolor": "white",
            "linecolor": "white",
            "ticks": ""
           },
           "baxis": {
            "gridcolor": "white",
            "linecolor": "white",
            "ticks": ""
           },
           "bgcolor": "#E5ECF6",
           "caxis": {
            "gridcolor": "white",
            "linecolor": "white",
            "ticks": ""
           }
          },
          "title": {
           "x": 0.05
          },
          "xaxis": {
           "automargin": true,
           "gridcolor": "white",
           "linecolor": "white",
           "ticks": "",
           "title": {
            "standoff": 15
           },
           "zerolinecolor": "white",
           "zerolinewidth": 2
          },
          "yaxis": {
           "automargin": true,
           "gridcolor": "white",
           "linecolor": "white",
           "ticks": "",
           "title": {
            "standoff": 15
           },
           "zerolinecolor": "white",
           "zerolinewidth": 2
          }
         }
        },
        "title": {
         "text": "Tesla"
        },
        "xaxis": {
         "anchor": "y",
         "autorange": true,
         "domain": [
          0,
          1
         ],
         "matches": "x2",
         "range": [
          "2019-06-27",
          "2021-06-14"
         ],
         "rangeslider": {
          "autorange": true,
          "range": [
           "2019-06-27",
           "2021-06-14"
          ],
          "visible": true,
          "yaxis": {
           "_template": null,
           "rangemode": "match"
          }
         },
         "showticklabels": false,
         "title": {
          "text": "Date"
         },
         "type": "date"
        },
        "xaxis2": {
         "anchor": "y2",
         "autorange": true,
         "domain": [
          0,
          1
         ],
         "range": [
          -1,
          6
         ],
         "title": {
          "text": "Date"
         }
        },
        "yaxis": {
         "anchor": "x",
         "autorange": true,
         "domain": [
          0.6499999999999999,
          0.9999999999999999
         ],
         "range": [
          -1.4772228135002994,
          309.9338983429803
         ],
         "title": {
          "text": "Price ($US)"
         },
         "type": "linear"
        },
        "yaxis2": {
         "anchor": "x2",
         "autorange": true,
         "domain": [
          0,
          0.35
         ],
         "range": [
          -1,
          4
         ],
         "title": {
          "text": "Revenue ($US Millions)"
         }
        }
       }
      },
      "image/png": "[encoded data removed]",
      "text/html": [
       "<div>                            <div id=\"246d620a-2482-4a4f-9b3e-3e9a9a54c67e\" class=\"plotly-graph-div\" style=\"height:900px; width:100%;\"></div>            <script type=\"text/javascript\">                require([\"plotly\"], function(Plotly) {                    window.PLOTLYENV=window.PLOTLYENV || {};                                    if (document.getElementById(\"246d620a-2482-4a4f-9b3e-3e9a9a54c67e\")) {                    Plotly.newPlot(                        \"246d620a-2482-4a4f-9b3e-3e9a9a54c67e\",                        [{\"name\":\"Share Price\",\"x\":[\"2019-06-27T00:00:00-04:00\",\"2019-06-28T00:00:00-04:00\",\"2019-07-01T00:00:00-04:00\",\"2019-07-02T00:00:00-04:00\",\"2019-07-03T00:00:00-04:00\",\"2019-07-05T00:00:00-04:00\",\"2019-07-08T00:00:00-04:00\",\"2019-07-09T00:00:00-04:00\",\"2019-07-10T00:00:00-04:00\",\"2019-07-11T00:00:00-04:00\",\"2019-07-12T00:00:00-04:00\",\"2019-07-15T00:00:00-04:00\",\"2019-07-16T00:00:00-04:00\",\"2019-07-17T00:00:00-04:00\",\"2019-07-18T00:00:00-04:00\",\"2019-07-19T00:00:00-04:00\",\"2019-07-22T00:00:00-04:00\",\"2019-07-23T00:00:00-04:00\",\"2019-07-24T00:00:00-04:00\",\"2019-07-25T00:00:00-04:00\",\"2019-07-26T00:00:00-04:00\",\"2019-07-29T00:00:00-04:00\",\"2019-07-30T00:00:00-04:00\",\"2019-07-31T00:00:00-04:00\",\"2019-08-01T00:00:00-04:00\",\"2019-08-02T00:00:00-04:00\",\"2019-08-05T00:00:00-04:00\",\"2019-08-06T00:00:00-04:00\",\"2019-08-07T00:00:00-04:00\",\"2019-08-08T00:00:00-04:00\",\"2019-08-09T00:00:00-04:00\",\"2019-08-12T00:00:00-04:00\",\"2019-08-13T00:00:00-04:00\",\"2019-08-14T00:00:00-04:00\",\"2019-08-15T00:00:00-04:00\",\"2019-08-16T00:00:00-04:00\",\"2019-08-19T00:00:00-04:00\",\"2019-08-20T00:00:00-04:00\",\"2019-08-21T00:00:00-04:00\",\"2019-08-22T00:00:00-04:00\",\"2019-08-23T00:00:00-04:00\",\"2019-08-26T00:00:00-04:00\",\"2019-08-27T00:00:00-04:00\",\"2019-08-28T00:00:00-04:00\",\"2019-08-29T00:00:00-04:00\",\"2019-08-30T00:00:00-04:00\",\"2019-09-03T00:00:00-04:00\",\"2019-09-04T00:00:00-04:00\",\"2019-09-05T00:00:00-04:00\",\"2019-09-06T00:00:00-04:00\",\"2019-09-09T00:00:00-04:00\",\"2019-09-10T00:00:00-04:00\",\"2019-09-11T00:00:00-04:00\",\"2019-09-12T00:00:00-04:00\",\"2019-09-13T00:00:00-04:00\",\"2019-09-16T00:00:00-04:00\",\"2019-09-17T00:00:00-04:00\",\"2019-09-18T00:00:00-04:00\",\"2019-09-19T00:00:00-04:00\",\"2019-09-20T00:00:00-04:00\",\"2019-09-23T00:00:00-04:00\",\"2019-09-24T00:00:00-04:00\",\"2019-09-25T00:00:00-04:00\",\"2019-09-26T00:00:00-04:00\",\"2019-09-27T00:00:00-04:00\",\"2019-09-30T00:00:00-04:00\",\"2019-10-01T00:00:00-04:00\",\"2019-10-02T00:00:00-04:00\",\"2019-10-03T00:00:00-04:00\",\"2019-10-04T00:00:00-04:00\",\"2019-10-07T00:00:00-04:00\",\"2019-10-08T00:00:00-04:00\",\"2019-10-09T00:00:00-04:00\",\"2019-10-10T00:00:00-04:00\",\"2019-10-11T00:00:00-04:00\",\"2019-10-14T00:00:00-04:00\",\"2019-10-15T00:00:00-04:00\",\"2019-10-16T00:00:00-04:00\",\"2019-10-17T00:00:00-04:00\",\"2019-10-18T00:00:00-04:00\",\"2019-10-21T00:00:00-04:00\",\"2019-10-22T00:00:00-04:00\",\"2019-10-23T00:00:00-04:00\",\"2019-10-24T00:00:00-04:00\",\"2019-10-25T00:00:00-04:00\",\"2019-10-28T00:00:00-04:00\",\"2019-10-29T00:00:00-04:00\",\"2019-10-30T00:00:00-04:00\",\"2019-10-31T00:00:00-04:00\",\"2019-11-01T00:00:00-04:00\",\"2019-11-04T00:00:00-05:00\",\"2019-11-05T00:00:00-05:00\",\"2019-11-06T00:00:00-05:00\",\"2019-11-07T00:00:00-05:00\",\"2019-11-08T00:00:00-05:00\",\"2019-11-11T00:00:00-05:00\",\"2019-11-12T00:00:00-05:00\",\"2019-11-13T00:00:00-05:00\",\"2019-11-14T00:00:00-05:00\",\"2019-11-15T00:00:00-05:00\",\"2019-11-18T00:00:00-05:00\",\"2019-11-19T00:00:00-05:00\",\"2019-11-20T00:00:00-05:00\",\"2019-11-21T00:00:00-05:00\",\"2019-11-22T00:00:00-05:00\",\"2019-11-25T00:00:00-05:00\",\"2019-11-26T00:00:00-05:00\",\"2019-11-27T00:00:00-05:00\",\"2019-11-29T00:00:00-05:00\",\"2019-12-02T00:00:00-05:00\",\"2019-12-03T00:00:00-05:00\",\"2019-12-04T00:00:00-05:00\",\"2019-12-05T00:00:00-05:00\",\"2019-12-06T00:00:00-05:00\",\"2019-12-09T00:00:00-05:00\",\"2019-12-10T00:00:00-05:00\",\"2019-12-11T00:00:00-05:00\",\"2019-12-12T00:00:00-05:00\",\"2019-12-13T00:00:00-05:00\",\"2019-12-16T00:00:00-05:00\",\"2019-12-17T00:00:00-05:00\",\"2019-12-18T00:00:00-05:00\",\"2019-12-19T00:00:00-05:00\",\"2019-12-20T00:00:00-05:00\",\"2019-12-23T00:00:00-05:00\",\"2019-12-24T00:00:00-05:00\",\"2019-12-26T00:00:00-05:00\",\"2019-12-27T00:00:00-05:00\",\"2019-12-30T00:00:00-05:00\",\"2019-12-31T00:00:00-05:00\",\"2020-01-02T00:00:00-05:00\",\"2020-01-03T00:00:00-05:00\",\"2020-01-06T00:00:00-05:00\",\"2020-01-07T00:00:00-05:00\",\"2020-01-08T00:00:00-05:00\",\"2020-01-09T00:00:00-05:00\",\"2020-01-10T00:00:00-05:00\",\"2020-01-13T00:00:00-05:00\",\"2020-01-14T00:00:00-05:00\",\"2020-01-15T00:00:00-05:00\",\"2020-01-16T00:00:00-05:00\",\"2020-01-17T00:00:00-05:00\",\"2020-01-21T00:00:00-05:00\",\"2020-01-22T00:00:00-05:00\",\"2020-01-23T00:00:00-05:00\",\"2020-01-24T00:00:00-05:00\",\"2020-01-27T00:00:00-05:00\",\"2020-01-28T00:00:00-05:00\",\"2020-01-29T00:00:00-05:00\",\"2020-01-30T00:00:00-05:00\",\"2020-01-31T00:00:00-05:00\",\"2020-02-03T00:00:00-05:00\",\"2020-02-04T00:00:00-05:00\",\"2020-02-05T00:00:00-05:00\",\"2020-02-06T00:00:00-05:00\",\"2020-02-07T00:00:00-05:00\",\"2020-02-10T00:00:00-05:00\",\"2020-02-11T00:00:00-05:00\",\"2020-02-12T00:00:00-05:00\",\"2020-02-13T00:00:00-05:00\",\"2020-02-14T00:00:00-05:00\",\"2020-02-18T00:00:00-05:00\",\"2020-02-19T00:00:00-05:00\",\"2020-02-20T00:00:00-05:00\",\"2020-02-21T00:00:00-05:00\",\"2020-02-24T00:00:00-05:00\",\"2020-02-25T00:00:00-05:00\",\"2020-02-26T00:00:00-05:00\",\"2020-02-27T00:00:00-05:00\",\"2020-02-28T00:00:00-05:00\",\"2020-03-02T00:00:00-05:00\",\"2020-03-03T00:00:00-05:00\",\"2020-03-04T00:00:00-05:00\",\"2020-03-05T00:00:00-05:00\",\"2020-03-06T00:00:00-05:00\",\"2020-03-09T00:00:00-04:00\",\"2020-03-10T00:00:00-04:00\",\"2020-03-11T00:00:00-04:00\",\"2020-03-12T00:00:00-04:00\",\"2020-03-13T00:00:00-04:00\",\"2020-03-16T00:00:00-04:00\",\"2020-03-17T00:00:00-04:00\",\"2020-03-18T00:00:00-04:00\",\"2020-03-19T00:00:00-04:00\",\"2020-03-20T00:00:00-04:00\",\"2020-03-23T00:00:00-04:00\",\"2020-03-24T00:00:00-04:00\",\"2020-03-25T00:00:00-04:00\",\"2020-03-26T00:00:00-04:00\",\"2020-03-27T00:00:00-04:00\",\"2020-03-30T00:00:00-04:00\",\"2020-03-31T00:00:00-04:00\",\"2020-04-01T00:00:00-04:00\",\"2020-04-02T00:00:00-04:00\",\"2020-04-03T00:00:00-04:00\",\"2020-04-06T00:00:00-04:00\",\"2020-04-07T00:00:00-04:00\",\"2020-04-08T00:00:00-04:00\",\"2020-04-09T00:00:00-04:00\",\"2020-04-13T00:00:00-04:00\",\"2020-04-14T00:00:00-04:00\",\"2020-04-15T00:00:00-04:00\",\"2020-04-16T00:00:00-04:00\",\"2020-04-17T00:00:00-04:00\",\"2020-04-20T00:00:00-04:00\",\"2020-04-21T00:00:00-04:00\",\"2020-04-22T00:00:00-04:00\",\"2020-04-23T00:00:00-04:00\",\"2020-04-24T00:00:00-04:00\",\"2020-04-27T00:00:00-04:00\",\"2020-04-28T00:00:00-04:00\",\"2020-04-29T00:00:00-04:00\",\"2020-04-30T00:00:00-04:00\",\"2020-05-01T00:00:00-04:00\",\"2020-05-04T00:00:00-04:00\",\"2020-05-05T00:00:00-04:00\",\"2020-05-06T00:00:00-04:00\",\"2020-05-07T00:00:00-04:00\",\"2020-05-08T00:00:00-04:00\",\"2020-05-11T00:00:00-04:00\",\"2020-05-12T00:00:00-04:00\",\"2020-05-13T00:00:00-04:00\",\"2020-05-14T00:00:00-04:00\",\"2020-05-15T00:00:00-04:00\",\"2020-05-18T00:00:00-04:00\",\"2020-05-19T00:00:00-04:00\",\"2020-05-20T00:00:00-04:00\",\"2020-05-21T00:00:00-04:00\",\"2020-05-22T00:00:00-04:00\",\"2020-05-26T00:00:00-04:00\",\"2020-05-27T00:00:00-04:00\",\"2020-05-28T00:00:00-04:00\",\"2020-05-29T00:00:00-04:00\",\"2020-06-01T00:00:00-04:00\",\"2020-06-02T00:00:00-04:00\",\"2020-06-03T00:00:00-04:00\",\"2020-06-04T00:00:00-04:00\",\"2020-06-05T00:00:00-04:00\",\"2020-06-08T00:00:00-04:00\",\"2020-06-09T00:00:00-04:00\",\"2020-06-10T00:00:00-04:00\",\"2020-06-11T00:00:00-04:00\",\"2020-06-12T00:00:00-04:00\",\"2020-06-15T00:00:00-04:00\",\"2020-06-16T00:00:00-04:00\",\"2020-06-17T00:00:00-04:00\",\"2020-06-18T00:00:00-04:00\",\"2020-06-19T00:00:00-04:00\",\"2020-06-22T00:00:00-04:00\",\"2020-06-23T00:00:00-04:00\",\"2020-06-24T00:00:00-04:00\",\"2020-06-25T00:00:00-04:00\",\"2020-06-26T00:00:00-04:00\",\"2020-06-29T00:00:00-04:00\",\"2020-06-30T00:00:00-04:00\",\"2020-07-01T00:00:00-04:00\",\"2020-07-02T00:00:00-04:00\",\"2020-07-06T00:00:00-04:00\",\"2020-07-07T00:00:00-04:00\",\"2020-07-08T00:00:00-04:00\",\"2020-07-09T00:00:00-04:00\",\"2020-07-10T00:00:00-04:00\",\"2020-07-13T00:00:00-04:00\",\"2020-07-14T00:00:00-04:00\",\"2020-07-15T00:00:00-04:00\",\"2020-07-16T00:00:00-04:00\",\"2020-07-17T00:00:00-04:00\",\"2020-07-20T00:00:00-04:00\",\"2020-07-21T00:00:00-04:00\",\"2020-07-22T00:00:00-04:00\",\"2020-07-23T00:00:00-04:00\",\"2020-07-24T00:00:00-04:00\",\"2020-07-27T00:00:00-04:00\",\"2020-07-28T00:00:00-04:00\",\"2020-07-29T00:00:00-04:00\",\"2020-07-30T00:00:00-04:00\",\"2020-07-31T00:00:00-04:00\",\"2020-08-03T00:00:00-04:00\",\"2020-08-04T00:00:00-04:00\",\"2020-08-05T00:00:00-04:00\",\"2020-08-06T00:00:00-04:00\",\"2020-08-07T00:00:00-04:00\",\"2020-08-10T00:00:00-04:00\",\"2020-08-11T00:00:00-04:00\",\"2020-08-12T00:00:00-04:00\",\"2020-08-13T00:00:00-04:00\",\"2020-08-14T00:00:00-04:00\",\"2020-08-17T00:00:00-04:00\",\"2020-08-18T00:00:00-04:00\",\"2020-08-19T00:00:00-04:00\",\"2020-08-20T00:00:00-04:00\",\"2020-08-21T00:00:00-04:00\",\"2020-08-24T00:00:00-04:00\",\"2020-08-25T00:00:00-04:00\",\"2020-08-26T00:00:00-04:00\",\"2020-08-27T00:00:00-04:00\",\"2020-08-28T00:00:00-04:00\",\"2020-08-31T00:00:00-04:00\",\"2020-09-01T00:00:00-04:00\",\"2020-09-02T00:00:00-04:00\",\"2020-09-03T00:00:00-04:00\",\"2020-09-04T00:00:00-04:00\",\"2020-09-08T00:00:00-04:00\",\"2020-09-09T00:00:00-04:00\",\"2020-09-10T00:00:00-04:00\",\"2020-09-11T00:00:00-04:00\",\"2020-09-14T00:00:00-04:00\",\"2020-09-15T00:00:00-04:00\",\"2020-09-16T00:00:00-04:00\",\"2020-09-17T00:00:00-04:00\",\"2020-09-18T00:00:00-04:00\",\"2020-09-21T00:00:00-04:00\",\"2020-09-22T00:00:00-04:00\",\"2020-09-23T00:00:00-04:00\",\"2020-09-24T00:00:00-04:00\",\"2020-09-25T00:00:00-04:00\",\"2020-09-28T00:00:00-04:00\",\"2020-09-29T00:00:00-04:00\",\"2020-09-30T00:00:00-04:00\",\"2020-10-01T00:00:00-04:00\",\"2020-10-02T00:00:00-04:00\",\"2020-10-05T00:00:00-04:00\",\"2020-10-06T00:00:00-04:00\",\"2020-10-07T00:00:00-04:00\",\"2020-10-08T00:00:00-04:00\",\"2020-10-09T00:00:00-04:00\",\"2020-10-12T00:00:00-04:00\",\"2020-10-13T00:00:00-04:00\",\"2020-10-14T00:00:00-04:00\",\"2020-10-15T00:00:00-04:00\",\"2020-10-16T00:00:00-04:00\",\"2020-10-19T00:00:00-04:00\",\"2020-10-20T00:00:00-04:00\",\"2020-10-21T00:00:00-04:00\",\"2020-10-22T00:00:00-04:00\",\"2020-10-23T00:00:00-04:00\",\"2020-10-26T00:00:00-04:00\",\"2020-10-27T00:00:00-04:00\",\"2020-10-28T00:00:00-04:00\",\"2020-10-29T00:00:00-04:00\",\"2020-10-30T00:00:00-04:00\",\"2020-11-02T00:00:00-05:00\",\"2020-11-03T00:00:00-05:00\",\"2020-11-04T00:00:00-05:00\",\"2020-11-05T00:00:00-05:00\",\"2020-11-06T00:00:00-05:00\",\"2020-11-09T00:00:00-05:00\",\"2020-11-10T00:00:00-05:00\",\"2020-11-11T00:00:00-05:00\",\"2020-11-12T00:00:00-05:00\",\"2020-11-13T00:00:00-05:00\",\"2020-11-16T00:00:00-05:00\",\"2020-11-17T00:00:00-05:00\",\"2020-11-18T00:00:00-05:00\",\"2020-11-19T00:00:00-05:00\",\"2020-11-20T00:00:00-05:00\",\"2020-11-23T00:00:00-05:00\",\"2020-11-24T00:00:00-05:00\",\"2020-11-25T00:00:00-05:00\",\"2020-11-27T00:00:00-05:00\",\"2020-11-30T00:00:00-05:00\",\"2020-12-01T00:00:00-05:00\",\"2020-12-02T00:00:00-05:00\",\"2020-12-03T00:00:00-05:00\",\"2020-12-04T00:00:00-05:00\",\"2020-12-07T00:00:00-05:00\",\"2020-12-08T00:00:00-05:00\",\"2020-12-09T00:00:00-05:00\",\"2020-12-10T00:00:00-05:00\",\"2020-12-11T00:00:00-05:00\",\"2020-12-14T00:00:00-05:00\",\"2020-12-15T00:00:00-05:00\",\"2020-12-16T00:00:00-05:00\",\"2020-12-17T00:00:00-05:00\",\"2020-12-18T00:00:00-05:00\",\"2020-12-21T00:00:00-05:00\",\"2020-12-22T00:00:00-05:00\",\"2020-12-23T00:00:00-05:00\",\"2020-12-24T00:00:00-05:00\",\"2020-12-28T00:00:00-05:00\",\"2020-12-29T00:00:00-05:00\",\"2020-12-30T00:00:00-05:00\",\"2020-12-31T00:00:00-05:00\",\"2021-01-04T00:00:00-05:00\",\"2021-01-05T00:00:00-05:00\",\"2021-01-06T00:00:00-05:00\",\"2021-01-07T00:00:00-05:00\",\"2021-01-08T00:00:00-05:00\",\"2021-01-11T00:00:00-05:00\",\"2021-01-12T00:00:00-05:00\",\"2021-01-13T00:00:00-05:00\",\"2021-01-14T00:00:00-05:00\",\"2021-01-15T00:00:00-05:00\",\"2021-01-19T00:00:00-05:00\",\"2021-01-20T00:00:00-05:00\",\"2021-01-21T00:00:00-05:00\",\"2021-01-22T00:00:00-05:00\",\"2021-01-25T00:00:00-05:00\",\"2021-01-26T00:00:00-05:00\",\"2021-01-27T00:00:00-05:00\",\"2021-01-28T00:00:00-05:00\",\"2021-01-29T00:00:00-05:00\",\"2021-02-01T00:00:00-05:00\",\"2021-02-02T00:00:00-05:00\",\"2021-02-03T00:00:00-05:00\",\"2021-02-04T00:00:00-05:00\",\"2021-02-05T00:00:00-05:00\",\"2021-02-08T00:00:00-05:00\",\"2021-02-09T00:00:00-05:00\",\"2021-02-10T00:00:00-05:00\",\"2021-02-11T00:00:00-05:00\",\"2021-02-12T00:00:00-05:00\",\"2021-02-16T00:00:00-05:00\",\"2021-02-17T00:00:00-05:00\",\"2021-02-18T00:00:00-05:00\",\"2021-02-19T00:00:00-05:00\",\"2021-02-22T00:00:00-05:00\",\"2021-02-23T00:00:00-05:00\",\"2021-02-24T00:00:00-05:00\",\"2021-02-25T00:00:00-05:00\",\"2021-02-26T00:00:00-05:00\",\"2021-03-01T00:00:00-05:00\",\"2021-03-02T00:00:00-05:00\",\"2021-03-03T00:00:00-05:00\",\"2021-03-04T00:00:00-05:00\",\"2021-03-05T00:00:00-05:00\",\"2021-03-08T00:00:00-05:00\",\"2021-03-09T00:00:00-05:00\",\"2021-03-10T00:00:00-05:00\",\"2021-03-11T00:00:00-05:00\",\"2021-03-12T00:00:00-05:00\",\"2021-03-15T00:00:00-04:00\",\"2021-03-16T00:00:00-04:00\",\"2021-03-17T00:00:00-04:00\",\"2021-03-18T00:00:00-04:00\",\"2021-03-19T00:00:00-04:00\",\"2021-03-22T00:00:00-04:00\",\"2021-03-23T00:00:00-04:00\",\"2021-03-24T00:00:00-04:00\",\"2021-03-25T00:00:00-04:00\",\"2021-03-26T00:00:00-04:00\",\"2021-03-29T00:00:00-04:00\",\"2021-03-30T00:00:00-04:00\",\"2021-03-31T00:00:00-04:00\",\"2021-04-01T00:00:00-04:00\",\"2021-04-05T00:00:00-04:00\",\"2021-04-06T00:00:00-04:00\",\"2021-04-07T00:00:00-04:00\",\"2021-04-08T00:00:00-04:00\",\"2021-04-09T00:00:00-04:00\",\"2021-04-12T00:00:00-04:00\",\"2021-04-13T00:00:00-04:00\",\"2021-04-14T00:00:00-04:00\",\"2021-04-15T00:00:00-04:00\",\"2021-04-16T00:00:00-04:00\",\"2021-04-19T00:00:00-04:00\",\"2021-04-20T00:00:00-04:00\",\"2021-04-21T00:00:00-04:00\",\"2021-04-22T00:00:00-04:00\",\"2021-04-23T00:00:00-04:00\",\"2021-04-26T00:00:00-04:00\",\"2021-04-27T00:00:00-04:00\",\"2021-04-28T00:00:00-04:00\",\"2021-04-29T00:00:00-04:00\",\"2021-04-30T00:00:00-04:00\",\"2021-05-03T00:00:00-04:00\",\"2021-05-04T00:00:00-04:00\",\"2021-05-05T00:00:00-04:00\",\"2021-05-06T00:00:00-04:00\",\"2021-05-07T00:00:00-04:00\",\"2021-05-10T00:00:00-04:00\",\"2021-05-11T00:00:00-04:00\",\"2021-05-12T00:00:00-04:00\",\"2021-05-13T00:00:00-04:00\",\"2021-05-14T00:00:00-04:00\",\"2021-05-17T00:00:00-04:00\",\"2021-05-18T00:00:00-04:00\",\"2021-05-19T00:00:00-04:00\",\"2021-05-20T00:00:00-04:00\",\"2021-05-21T00:00:00-04:00\",\"2021-05-24T00:00:00-04:00\",\"2021-05-25T00:00:00-04:00\",\"2021-05-26T00:00:00-04:00\",\"2021-05-27T00:00:00-04:00\",\"2021-05-28T00:00:00-04:00\",\"2021-06-01T00:00:00-04:00\",\"2021-06-02T00:00:00-04:00\",\"2021-06-03T00:00:00-04:00\",\"2021-06-04T00:00:00-04:00\",\"2021-06-07T00:00:00-04:00\",\"2021-06-08T00:00:00-04:00\",\"2021-06-09T00:00:00-04:00\",\"2021-06-10T00:00:00-04:00\",\"2021-06-11T00:00:00-04:00\",\"2021-06-14T00:00:00-04:00\"],\"y\":[14.855999946594238,14.897333145141602,15.14466667175293,14.970000267028809,15.65999984741211,15.539999961853027,15.355999946594238,15.337332725524902,15.928000450134277,15.90666675567627,16.338666915893555,16.899999618530273,16.825332641601562,16.99066734313965,16.902666091918945,17.211999893188477,17.045333862304688,17.344667434692383,17.658666610717773,15.254667282104492,15.202667236328125,15.718000411987305,16.150667190551758,16.107332229614258,15.59000015258789,15.62266731262207,15.221332550048828,15.383333206176758,15.561332702636719,15.886667251586914,15.667332649230957,15.267333030700684,15.666666984558105,14.641332626342773,14.37600040435791,14.662667274475098,15.121999740600586,15.057332992553711,14.722000122070312,14.8100004196167,14.09333324432373,14.333333015441895,14.272000312805176,14.37266731262207,14.780667304992676,15.040666580200195,15.000666618347168,14.711999893188477,15.305333137512207,15.16333293914795,15.452667236328125,15.702667236328125,16.47333335876465,16.391332626342773,16.34666633605957,16.187332153320312,16.319332122802734,16.232667922973633,16.440000534057617,16.041332244873047,16.082000732421875,14.880666732788086,15.24666690826416,16.17066764831543,16.142000198364258,16.058000564575195,16.312667846679688,16.208667755126953,15.535332679748535,15.428667068481445,15.847999572753906,16.003332138061523,16.302000045776367,16.31599998474121,16.525999069213867,17.130666732788086,17.19266700744629,17.316667556762695,17.46466636657715,17.1299991607666,16.899999618530273,17.038667678833008,16.978666305541992,19.978666305541992,21.875333786010742,21.847333908081055,21.08133316040039,21.000667572021484,20.994667053222656,20.887332916259766,21.1646671295166,21.148000717163086,21.77199935913086,22.369333267211914,22.47599983215332,23.006000518798828,23.32866668701172,23.073999404907227,23.290000915527344,23.47800064086914,23.332666397094727,23.968000411987305,23.481332778930664,23.655332565307617,22.202667236328125,22.422666549682617,21.92799949645996,22.086000442504883,21.996000289916992,22.32466697692871,22.413333892822266,22.20199966430664,22.024667739868164,22.392667770385742,22.635332107543945,23.256000518798828,23.51333236694336,23.978666305541992,23.892667770385742,25.433332443237305,25.266000747680664,26.209999084472656,26.93600082397461,27.03933334350586,27.947999954223633,28.350000381469727,28.729333877563477,28.691999435424805,27.64666748046875,27.8886661529541,28.68400001525879,29.534000396728516,30.1026668548584,31.270666122436523,32.80933380126953,32.089332580566406,31.876667022705078,34.990665435791016,35.861331939697266,34.56666564941406,34.232666015625,34.03333282470703,36.47999954223633,37.97066879272461,38.14666748046875,37.654666900634766,37.201332092285156,37.793331146240234,38.732666015625,42.72066879272461,43.371334075927734,52.0,59.137332916259766,48.97999954223633,49.930667877197266,49.871334075927734,51.41866683959961,51.62533187866211,51.15266799926758,53.599998474121094,53.33533477783203,57.22666549682617,61.16133117675781,59.96066665649414,60.06666564941406,55.58599853515625,53.32733154296875,51.91999816894531,45.266666412353516,44.53266525268555,49.574668884277344,49.70066833496094,49.96666717529297,48.30266571044922,46.89866638183594,40.53333282470703,43.02199935913086,42.28200149536133,37.369998931884766,36.44133377075195,29.67133331298828,28.68000030517578,24.08133316040039,28.50933265686035,28.50200080871582,28.952667236328125,33.66666793823242,35.95000076293945,35.21066665649414,34.29066848754883,33.47533416748047,34.93333435058594,32.104000091552734,30.29800033569336,32.000667572021484,34.41600036621094,36.36333465576172,36.589332580566406,38.20000076293945,43.39666748046875,47.32600021362305,48.65533447265625,49.680667877197266,50.259334564208984,49.75733184814453,45.781333923339844,48.807334899902344,47.04199981689453,48.34333419799805,53.25,51.27466583251953,53.367332458496094,52.12533187866211,46.75466537475586,50.74599838256836,51.2140007019043,52.172000885009766,52.00266647338867,54.62799835205078,54.08599853515625,53.96066665649414,52.73066711425781,53.55533218383789,53.27799987792969,54.242000579833984,53.867332458496094,54.37066650390625,55.17333221435547,54.45866775512695,54.591331481933594,54.68199920654297,53.72066879272461,55.66666793823242,59.87333297729492,58.770668029785156,58.86399841308594,57.62533187866211,59.04399871826172,63.327999114990234,62.711334228515625,68.336669921875,64.85600280761719,62.35200119018555,66.05999755859375,65.47533416748047,66.11933135986328,66.9306640625,66.72666931152344,66.28800201416016,66.78533172607422,64.0566635131836,65.73200225830078,63.982666015625,67.29000091552734,71.98733520507812,74.64199829101562,80.57733154296875,91.43866729736328,92.65733337402344,91.05867004394531,92.9520034790039,102.97666931152344,99.80400085449219,101.12000274658203,103.06732940673828,100.04266357421875,100.05599975585938,109.53333282470703,104.55733489990234,106.15533447265625,100.87133026123047,94.46666717529297,102.63999938964844,98.43267059326172,99.94066619873047,99.16600036621094,95.38400268554688,99.0,99.13333129882812,99.00133514404297,99.30533599853516,96.84733581542969,94.57133483886719,91.6259994506836,103.65066528320312,108.06666564941406,110.04733276367188,122.3759994506836,125.80599975585938,125.23533630371094,133.45533752441406,136.6653289794922,134.27999877929688,134.8893280029297,143.54466247558594,149.25,147.55999755859375,166.10667419433594,158.35000610351562,149.1233367919922,135.6666717529297,139.44000244140625,110.06999969482422,122.09333038330078,123.77999877929688,124.23999786376953,139.8733367919922,149.9199981689453,147.25332641601562,141.14332580566406,147.38333129882812,149.79666137695312,141.41000366210938,126.78666687011719,129.26333618164062,135.77999877929688,140.39999389648438,139.69000244140625,143.00332641601562,149.3866729736328,138.3633270263672,141.89332580566406,137.9933319091797,141.76666259765625,141.97332763671875,144.6666717529297,147.43333435058594,148.88333129882812,153.76666259765625,149.6266632080078,146.55667114257812,143.61000061035156,140.64666748046875,140.8800048828125,141.92999267578125,140.2100067138672,140.0933380126953,141.55999755859375,135.33999633789062,136.94332885742188,129.34666442871094,133.50332641601562,141.3000030517578,140.32666015625,146.02999877929688,143.31666564941406,140.4199981689453,136.7866668701172,139.0433349609375,137.25332641601562,136.1666717529297,136.02999877929688,147.20333862304688,162.2133331298828,166.42333984375,163.20333862304688,173.9499969482422,185.1266632080078,191.3333282470703,195.25332641601562,189.1999969482422,194.9199981689453,189.60667419433594,197.7933349609375,199.67999267578125,213.9199981689453,216.6266632080078,201.4933319091797,209.02333068847656,203.3300018310547,213.27667236328125,211.0833282470703,207.58999633789062,218.63333129882812,231.6666717529297,216.6199951171875,213.44667053222656,215.32666015625,220.58999633789062,221.22999572753906,221.99667358398438,231.5933380126953,235.22332763671875,243.2566680908203,245.0366668701172,251.9933319091797,272.0133361816406,293.3399963378906,270.39666748046875,283.14666748046875,284.8033447265625,281.6666564941406,275.38665771484375,281.51666259765625,283.48333740234375,281.663330078125,282.21331787109375,293.6000061035156,294.36334228515625,288.0533447265625,278.4766540527344,264.510009765625,279.9366760253906,290.92999267578125,284.89666748046875,283.3299865722656,284.07666015625,287.8066711425781,283.1533203125,268.2733459472656,270.5533447265625,272.0400085449219,265.40667724609375,266.04998779296875,262.4599914550781,260.4333190917969,238.1666717529297,232.94667053222656,247.33999633789062,227.4066619873047,225.1666717529297,239.47666931152344,228.81333923339844,217.73333740234375,207.14666748046875,199.31666564941406,187.6666717529297,224.52667236328125,222.68666076660156,233.1999969482422,231.2433319091797,235.97999572753906,225.6266632080078,233.93666076660156,217.72000122070312,218.2899932861328,223.3333282470703,220.72000122070312,210.08999633789062,213.4633331298828,206.23666381835938,203.76333618164062,211.8733367919922,222.64332580566406,220.5833282470703,230.35000610351562,230.5399932861328,223.6566619873047,227.93333435058594,225.67333984375,233.9933319091797,254.10667419433594,244.07666015625,246.28334045410156,246.5933380126953,238.2100067138672,239.663330078125,248.0399932861328,239.89666748046875,243.13333129882812,246.06666564941406,234.913330078125,231.46665954589844,225.6666717529297,236.47999572753906,228.3000030517578,224.53334045410156,223.64666748046875,221.17999267578125,224.1233367919922,209.67999267578125,205.73333740234375,196.6300048828125,190.56333923339844,196.5800018310547,192.27667236328125,192.6233367919922,187.82000732421875,195.5933380126953,193.6266632080078,202.14666748046875,201.56333923339844,206.3766632080078,210.28334045410156,208.4066619873047,207.96665954589844,201.7066650390625,190.94667053222656,199.68333435058594,201.7100067138672,201.19667053222656,199.5933380126953,203.3733367919922,203.29666137695312,205.89666748046875],\"type\":\"scatter\",\"xaxis\":\"x\",\"yaxis\":\"y\"},{\"name\":\"Revenue\",\"x\":[],\"y\":[],\"type\":\"scatter\",\"xaxis\":\"x2\",\"yaxis\":\"y2\"}],                        {\"template\":{\"data\":{\"histogram2dcontour\":[{\"type\":\"histogram2dcontour\",\"colorbar\":{\"outlinewidth\":0,\"ticks\":\"\"},\"colorscale\":[[0.0,\"#0d0887\"],[0.1111111111111111,\"#46039f\"],[0.2222222222222222,\"#7201a8\"],[0.3333333333333333,\"#9c179e\"],[0.4444444444444444,\"#bd3786\"],[0.5555555555555556,\"#d8576b\"],[0.6666666666666666,\"#ed7953\"],[0.7777777777777778,\"#fb9f3a\"],[0.8888888888888888,\"#fdca26\"],[1.0,\"#f0f921\"]]}],\"choropleth\":[{\"type\":\"choropleth\",\"colorbar\":{\"outlinewidth\":0,\"ticks\":\"\"}}],\"histogram2d\":[{\"type\":\"histogram2d\",\"colorbar\":{\"outlinewidth\":0,\"ticks\":\"\"},\"colorscale\":[[0.0,\"#0d0887\"],[0.1111111111111111,\"#46039f\"],[0.2222222222222222,\"#7201a8\"],[0.3333333333333333,\"#9c179e\"],[0.4444444444444444,\"#bd3786\"],[0.5555555555555556,\"#d8576b\"],[0.6666666666666666,\"#ed7953\"],[0.7777777777777778,\"#fb9f3a\"],[0.8888888888888888,\"#fdca26\"],[1.0,\"#f0f921\"]]}],\"heatmap\":[{\"type\":\"heatmap\",\"colorbar\":{\"outlinewidth\":0,\"ticks\":\"\"},\"colorscale\":[[0.0,\"#0d0887\"],[0.1111111111111111,\"#46039f\"],[0.2222222222222222,\"#7201a8\"],[0.3333333333333333,\"#9c179e\"],[0.4444444444444444,\"#bd3786\"],[0.5555555555555556,\"#d8576b\"],[0.6666666666666666,\"#ed7953\"],[0.7777777777777778,\"#fb9f3a\"],[0.8888888888888888,\"#fdca26\"],[1.0,\"#f0f921\"]]}],\"heatmapgl\":[{\"type\":\"heatmapgl\",\"colorbar\":{\"outlinewidth\":0,\"ticks\":\"\"},\"colorscale\":[[0.0,\"#0d0887\"],[0.1111111111111111,\"#46039f\"],[0.2222222222222222,\"#7201a8\"],[0.3333333333333333,\"#9c179e\"],[0.4444444444444444,\"#bd3786\"],[0.5555555555555556,\"#d8576b\"],[0.6666666666666666,\"#ed7953\"],[0.7777777777777778,\"#fb9f3a\"],[0.8888888888888888,\"#fdca26\"],[1.0,\"#f0f921\"]]}],\"contourcarpet\":[{\"type\":\"contourcarpet\",\"colorbar\":{\"outlinewidth\":0,\"ticks\":\"\"}}],\"contour\":[{\"type\":\"contour\",\"colorbar\":{\"outlinewidth\":0,\"ticks\":\"\"},\"colorscale\":[[0.0,\"#0d0887\"],[0.1111111111111111,\"#46039f\"],[0.2222222222222222,\"#7201a8\"],[0.3333333333333333,\"#9c179e\"],[0.4444444444444444,\"#bd3786\"],[0.5555555555555556,\"#d8576b\"],[0.6666666666666666,\"#ed7953\"],[0.7777777777777778,\"#fb9f3a\"],[0.8888888888888888,\"#fdca26\"],[1.0,\"#f0f921\"]]}],\"surface\":[{\"type\":\"surface\",\"colorbar\":{\"outlinewidth\":0,\"ticks\":\"\"},\"colorscale\":[[0.0,\"#0d0887\"],[0.1111111111111111,\"#46039f\"],[0.2222222222222222,\"#7201a8\"],[0.3333333333333333,\"#9c179e\"],[0.4444444444444444,\"#bd3786\"],[0.5555555555555556,\"#d8576b\"],[0.6666666666666666,\"#ed7953\"],[0.7777777777777778,\"#fb9f3a\"],[0.8888888888888888,\"#fdca26\"],[1.0,\"#f0f921\"]]}],\"mesh3d\":[{\"type\":\"mesh3d\",\"colorbar\":{\"outlinewidth\":0,\"ticks\":\"\"}}],\"scatter\":[{\"fillpattern\":{\"fillmode\":\"overlay\",\"size\":10,\"solidity\":0.2},\"type\":\"scatter\"}],\"parcoords\":[{\"type\":\"parcoords\",\"line\":{\"colorbar\":{\"outlinewidth\":0,\"ticks\":\"\"}}}],\"scatterpolargl\":[{\"type\":\"scatterpolargl\",\"marker\":{\"colorbar\":{\"outlinewidth\":0,\"ticks\":\"\"}}}],\"bar\":[{\"error_x\":{\"color\":\"#2a3f5f\"},\"error_y\":{\"color\":\"#2a3f5f\"},\"marker\":{\"line\":{\"color\":\"#E5ECF6\",\"width\":0.5},\"pattern\":{\"fillmode\":\"overlay\",\"size\":10,\"solidity\":0.2}},\"type\":\"bar\"}],\"scattergeo\":[{\"type\":\"scattergeo\",\"marker\":{\"colorbar\":{\"outlinewidth\":0,\"ticks\":\"\"}}}],\"scatterpolar\":[{\"type\":\"scatterpolar\",\"marker\":{\"colorbar\":{\"outlinewidth\":0,\"ticks\":\"\"}}}],\"histogram\":[{\"marker\":{\"pattern\":{\"fillmode\":\"overlay\",\"size\":10,\"solidity\":0.2}},\"type\":\"histogram\"}],\"scattergl\":[{\"type\":\"scattergl\",\"marker\":{\"colorbar\":{\"outlinewidth\":0,\"ticks\":\"\"}}}],\"scatter3d\":[{\"type\":\"scatter3d\",\"line\":{\"colorbar\":{\"outlinewidth\":0,\"ticks\":\"\"}},\"marker\":{\"colorbar\":{\"outlinewidth\":0,\"ticks\":\"\"}}}],\"scattermapbox\":[{\"type\":\"scattermapbox\",\"marker\":{\"colorbar\":{\"outlinewidth\":0,\"ticks\":\"\"}}}],\"scatterternary\":[{\"type\":\"scatterternary\",\"marker\":{\"colorbar\":{\"outlinewidth\":0,\"ticks\":\"\"}}}],\"scattercarpet\":[{\"type\":\"scattercarpet\",\"marker\":{\"colorbar\":{\"outlinewidth\":0,\"ticks\":\"\"}}}],\"carpet\":[{\"aaxis\":{\"endlinecolor\":\"#2a3f5f\",\"gridcolor\":\"white\",\"linecolor\":\"white\",\"minorgridcolor\":\"white\",\"startlinecolor\":\"#2a3f5f\"},\"baxis\":{\"endlinecolor\":\"#2a3f5f\",\"gridcolor\":\"white\",\"linecolor\":\"white\",\"minorgridcolor\":\"white\",\"startlinecolor\":\"#2a3f5f\"},\"type\":\"carpet\"}],\"table\":[{\"cells\":{\"fill\":{\"color\":\"#EBF0F8\"},\"line\":{\"color\":\"white\"}},\"header\":{\"fill\":{\"color\":\"#C8D4E3\"},\"line\":{\"color\":\"white\"}},\"type\":\"table\"}],\"barpolar\":[{\"marker\":{\"line\":{\"color\":\"#E5ECF6\",\"width\":0.5},\"pattern\":{\"fillmode\":\"overlay\",\"size\":10,\"solidity\":0.2}},\"type\":\"barpolar\"}],\"pie\":[{\"automargin\":true,\"type\":\"pie\"}]},\"layout\":{\"autotypenumbers\":\"strict\",\"colorway\":[\"#636efa\",\"#EF553B\",\"#00cc96\",\"#ab63fa\",\"#FFA15A\",\"#19d3f3\",\"#FF6692\",\"#B6E880\",\"#FF97FF\",\"#FECB52\"],\"font\":{\"color\":\"#2a3f5f\"},\"hovermode\":\"closest\",\"hoverlabel\":{\"align\":\"left\"},\"paper_bgcolor\":\"white\",\"plot_bgcolor\":\"#E5ECF6\",\"polar\":{\"bgcolor\":\"#E5ECF6\",\"angularaxis\":{\"gridcolor\":\"white\",\"linecolor\":\"white\",\"ticks\":\"\"},\"radialaxis\":{\"gridcolor\":\"white\",\"linecolor\":\"white\",\"ticks\":\"\"}},\"ternary\":{\"bgcolor\":\"#E5ECF6\",\"aaxis\":{\"gridcolor\":\"white\",\"linecolor\":\"white\",\"ticks\":\"\"},\"baxis\":{\"gridcolor\":\"white\",\"linecolor\":\"white\",\"ticks\":\"\"},\"caxis\":{\"gridcolor\":\"white\",\"linecolor\":\"white\",\"ticks\":\"\"}},\"coloraxis\":{\"colorbar\":{\"outlinewidth\":0,\"ticks\":\"\"}},\"colorscale\":{\"sequential\":[[0.0,\"#0d0887\"],[0.1111111111111111,\"#46039f\"],[0.2222222222222222,\"#7201a8\"],[0.3333333333333333,\"#9c179e\"],[0.4444444444444444,\"#bd3786\"],[0.5555555555555556,\"#d8576b\"],[0.6666666666666666,\"#ed7953\"],[0.7777777777777778,\"#fb9f3a\"],[0.8888888888888888,\"#fdca26\"],[1.0,\"#f0f921\"]],\"sequentialminus\":[[0.0,\"#0d0887\"],[0.1111111111111111,\"#46039f\"],[0.2222222222222222,\"#7201a8\"],[0.3333333333333333,\"#9c179e\"],[0.4444444444444444,\"#bd3786\"],[0.5555555555555556,\"#d8576b\"],[0.6666666666666666,\"#ed7953\"],[0.7777777777777778,\"#fb9f3a\"],[0.8888888888888888,\"#fdca26\"],[1.0,\"#f0f921\"]],\"diverging\":[[0,\"#8e0152\"],[0.1,\"#c51b7d\"],[0.2,\"#de77ae\"],[0.3,\"#f1b6da\"],[0.4,\"#fde0ef\"],[0.5,\"#f7f7f7\"],[0.6,\"#e6f5d0\"],[0.7,\"#b8e186\"],[0.8,\"#7fbc41\"],[0.9,\"#4d9221\"],[1,\"#276419\"]]},\"xaxis\":{\"gridcolor\":\"white\",\"linecolor\":\"white\",\"ticks\":\"\",\"title\":{\"standoff\":15},\"zerolinecolor\":\"white\",\"automargin\":true,\"zerolinewidth\":2},\"yaxis\":{\"gridcolor\":\"white\",\"linecolor\":\"white\",\"ticks\":\"\",\"title\":{\"standoff\":15},\"zerolinecolor\":\"white\",\"automargin\":true,\"zerolinewidth\":2},\"scene\":{\"xaxis\":{\"backgroundcolor\":\"#E5ECF6\",\"gridcolor\":\"white\",\"linecolor\":\"white\",\"showbackground\":true,\"ticks\":\"\",\"zerolinecolor\":\"white\",\"gridwidth\":2},\"yaxis\":{\"backgroundcolor\":\"#E5ECF6\",\"gridcolor\":\"white\",\"linecolor\":\"white\",\"showbackground\":true,\"ticks\":\"\",\"zerolinecolor\":\"white\",\"gridwidth\":2},\"zaxis\":{\"backgroundcolor\":\"#E5ECF6\",\"gridcolor\":\"white\",\"linecolor\":\"white\",\"showbackground\":true,\"ticks\":\"\",\"zerolinecolor\":\"white\",\"gridwidth\":2}},\"shapedefaults\":{\"line\":{\"color\":\"#2a3f5f\"}},\"annotationdefaults\":{\"arrowcolor\":\"#2a3f5f\",\"arrowhead\":0,\"arrowwidth\":1},\"geo\":{\"bgcolor\":\"white\",\"landcolor\":\"#E5ECF6\",\"subunitcolor\":\"white\",\"showland\":true,\"showlakes\":true,\"lakecolor\":\"white\"},\"title\":{\"x\":0.05},\"mapbox\":{\"style\":\"light\"}}},\"xaxis\":{\"anchor\":\"y\",\"domain\":[0.0,1.0],\"matches\":\"x2\",\"showticklabels\":false,\"title\":{\"text\":\"Date\"},\"rangeslider\":{\"visible\":true}},\"yaxis\":{\"anchor\":\"x\",\"domain\":[0.6499999999999999,0.9999999999999999],\"title\":{\"text\":\"Price ($US)\"}},\"xaxis2\":{\"anchor\":\"y2\",\"domain\":[0.0,1.0],\"title\":{\"text\":\"Date\"}},\"yaxis2\":{\"anchor\":\"x2\",\"domain\":[0.0,0.35],\"title\":{\"text\":\"Revenue ($US Millions)\"}},\"annotations\":[{\"font\":{\"size\":16},\"showarrow\":false,\"text\":\"Historical Share Price\",\"x\":0.5,\"xanchor\":\"center\",\"xref\":\"paper\",\"y\":0.9999999999999999,\"yanchor\":\"bottom\",\"yref\":\"paper\"},{\"font\":{\"size\":16},\"showarrow\":false,\"text\":\"Historical Revenue\",\"x\":0.5,\"xanchor\":\"center\",\"xref\":\"paper\",\"y\":0.35,\"yanchor\":\"bottom\",\"yref\":\"paper\"}],\"showlegend\":false,\"height\":900,\"title\":{\"text\":\"Tesla\"}},                        {\"responsive\": true}                    ).then(function(){\n",
       "                            \n",
       "var gd = document.getElementById('246d620a-2482-4a4f-9b3e-3e9a9a54c67e');\n",
       "var x = new MutationObserver(function (mutations, observer) {{\n",
       "        var display = window.getComputedStyle(gd).display;\n",
       "        if (!display || display === 'none') {{\n",
       "            console.log([gd, 'removed!']);\n",
       "            Plotly.purge(gd);\n",
       "            observer.disconnect();\n",
       "        }}\n",
       "}});\n",
       "\n",
       "// Listen for the removal of the full notebook cells\n",
       "var notebookContainer = gd.closest('#notebook-container');\n",
       "if (notebookContainer) {{\n",
       "    x.observe(notebookContainer, {childList: true});\n",
       "}}\n",
       "\n",
       "// Listen for the clearing of the current output cell\n",
       "var outputEl = gd.closest('.output');\n",
       "if (outputEl) {{\n",
       "    x.observe(outputEl, {childList: true});\n",
       "}}\n",
       "\n",
       "                        })                };                });            </script>        </div>"
      ]
     },
     "metadata": {},
     "output_type": "display_data"
    }
   ],
   "source": [
    "make_graph(tesla_data, tesla_revenue, 'Tesla')"
   ]
  },
  {
   "cell_type": "code",
   "execution_count": 107,
   "id": "733af85e-5b72-4fc9-8b7b-4440f73fa142",
   "metadata": {},
   "outputs": [
    {
     "ename": "AttributeError",
     "evalue": "'DataFrame' object has no attribute 'Date'",
     "output_type": "error",
     "traceback": [
      "\u001b[0;31m---------------------------------------------------------------------------\u001b[0m",
      "\u001b[0;31mAttributeError\u001b[0m                            Traceback (most recent call last)",
      "\u001b[0;32m/var/folders/kt/xg8sw3qj0030bwvtfq7ld3f40000gn/T/ipykernel_48760/1051334688.py\u001b[0m in \u001b[0;36m?\u001b[0;34m()\u001b[0m\n\u001b[0;32m----> 1\u001b[0;31m \u001b[0mmake_graph\u001b[0m\u001b[0;34m(\u001b[0m\u001b[0mgme_data\u001b[0m\u001b[0;34m,\u001b[0m \u001b[0mgme_revenue\u001b[0m\u001b[0;34m,\u001b[0m \u001b[0;34m'GameStop'\u001b[0m\u001b[0;34m)\u001b[0m\u001b[0;34m\u001b[0m\u001b[0;34m\u001b[0m\u001b[0m\n\u001b[0m",
      "\u001b[0;32m/var/folders/kt/xg8sw3qj0030bwvtfq7ld3f40000gn/T/ipykernel_48760/2068038883.py\u001b[0m in \u001b[0;36m?\u001b[0;34m(stock_data, revenue_data, stock)\u001b[0m\n\u001b[1;32m      1\u001b[0m \u001b[0;32mdef\u001b[0m \u001b[0mmake_graph\u001b[0m\u001b[0;34m(\u001b[0m\u001b[0mstock_data\u001b[0m\u001b[0;34m,\u001b[0m \u001b[0mrevenue_data\u001b[0m\u001b[0;34m,\u001b[0m \u001b[0mstock\u001b[0m\u001b[0;34m)\u001b[0m\u001b[0;34m:\u001b[0m\u001b[0;34m\u001b[0m\u001b[0;34m\u001b[0m\u001b[0m\n\u001b[1;32m      2\u001b[0m     \u001b[0mfig\u001b[0m \u001b[0;34m=\u001b[0m \u001b[0mmake_subplots\u001b[0m\u001b[0;34m(\u001b[0m\u001b[0mrows\u001b[0m\u001b[0;34m=\u001b[0m\u001b[0;36m2\u001b[0m\u001b[0;34m,\u001b[0m \u001b[0mcols\u001b[0m\u001b[0;34m=\u001b[0m\u001b[0;36m1\u001b[0m\u001b[0;34m,\u001b[0m \u001b[0mshared_xaxes\u001b[0m\u001b[0;34m=\u001b[0m\u001b[0;32mTrue\u001b[0m\u001b[0;34m,\u001b[0m \u001b[0msubplot_titles\u001b[0m\u001b[0;34m=\u001b[0m\u001b[0;34m(\u001b[0m\u001b[0;34m\"Historical Share Price\"\u001b[0m\u001b[0;34m,\u001b[0m \u001b[0;34m\"Historical Revenue\"\u001b[0m\u001b[0;34m)\u001b[0m\u001b[0;34m,\u001b[0m \u001b[0mvertical_spacing\u001b[0m \u001b[0;34m=\u001b[0m \u001b[0;36m.3\u001b[0m\u001b[0;34m)\u001b[0m\u001b[0;34m\u001b[0m\u001b[0;34m\u001b[0m\u001b[0m\n\u001b[1;32m      3\u001b[0m     \u001b[0mstock_data_specific\u001b[0m \u001b[0;34m=\u001b[0m \u001b[0mstock_data\u001b[0m\u001b[0;34m[\u001b[0m\u001b[0mstock_data\u001b[0m\u001b[0;34m.\u001b[0m\u001b[0mDate\u001b[0m \u001b[0;34m<=\u001b[0m \u001b[0;34m'2021--06-14'\u001b[0m\u001b[0;34m]\u001b[0m\u001b[0;34m\u001b[0m\u001b[0;34m\u001b[0m\u001b[0m\n\u001b[0;32m----> 4\u001b[0;31m     \u001b[0mrevenue_data_specific\u001b[0m \u001b[0;34m=\u001b[0m \u001b[0mrevenue_data\u001b[0m\u001b[0;34m[\u001b[0m\u001b[0mrevenue_data\u001b[0m\u001b[0;34m.\u001b[0m\u001b[0mDate\u001b[0m \u001b[0;34m<=\u001b[0m \u001b[0;34m'2021-04-30'\u001b[0m\u001b[0;34m]\u001b[0m\u001b[0;34m\u001b[0m\u001b[0;34m\u001b[0m\u001b[0m\n\u001b[0m\u001b[1;32m      5\u001b[0m     \u001b[0mfig\u001b[0m\u001b[0;34m.\u001b[0m\u001b[0madd_trace\u001b[0m\u001b[0;34m(\u001b[0m\u001b[0mgo\u001b[0m\u001b[0;34m.\u001b[0m\u001b[0mScatter\u001b[0m\u001b[0;34m(\u001b[0m\u001b[0mx\u001b[0m\u001b[0;34m=\u001b[0m\u001b[0mpd\u001b[0m\u001b[0;34m.\u001b[0m\u001b[0mto_datetime\u001b[0m\u001b[0;34m(\u001b[0m\u001b[0mstock_data_specific\u001b[0m\u001b[0;34m.\u001b[0m\u001b[0mDate\u001b[0m\u001b[0;34m,\u001b[0m \u001b[0minfer_datetime_format\u001b[0m\u001b[0;34m=\u001b[0m\u001b[0;32mTrue\u001b[0m\u001b[0;34m)\u001b[0m\u001b[0;34m,\u001b[0m \u001b[0my\u001b[0m\u001b[0;34m=\u001b[0m\u001b[0mstock_data_specific\u001b[0m\u001b[0;34m.\u001b[0m\u001b[0mClose\u001b[0m\u001b[0;34m.\u001b[0m\u001b[0mastype\u001b[0m\u001b[0;34m(\u001b[0m\u001b[0;34m\"float\"\u001b[0m\u001b[0;34m)\u001b[0m\u001b[0;34m,\u001b[0m \u001b[0mname\u001b[0m\u001b[0;34m=\u001b[0m\u001b[0;34m\"Share Price\"\u001b[0m\u001b[0;34m)\u001b[0m\u001b[0;34m,\u001b[0m \u001b[0mrow\u001b[0m\u001b[0;34m=\u001b[0m\u001b[0;36m1\u001b[0m\u001b[0;34m,\u001b[0m \u001b[0mcol\u001b[0m\u001b[0;34m=\u001b[0m\u001b[0;36m1\u001b[0m\u001b[0;34m)\u001b[0m\u001b[0;34m\u001b[0m\u001b[0;34m\u001b[0m\u001b[0m\n\u001b[1;32m      6\u001b[0m     \u001b[0mfig\u001b[0m\u001b[0;34m.\u001b[0m\u001b[0madd_trace\u001b[0m\u001b[0;34m(\u001b[0m\u001b[0mgo\u001b[0m\u001b[0;34m.\u001b[0m\u001b[0mScatter\u001b[0m\u001b[0;34m(\u001b[0m\u001b[0mx\u001b[0m\u001b[0;34m=\u001b[0m\u001b[0mpd\u001b[0m\u001b[0;34m.\u001b[0m\u001b[0mto_datetime\u001b[0m\u001b[0;34m(\u001b[0m\u001b[0mrevenue_data_specific\u001b[0m\u001b[0;34m.\u001b[0m\u001b[0mDate\u001b[0m\u001b[0;34m,\u001b[0m \u001b[0minfer_datetime_format\u001b[0m\u001b[0;34m=\u001b[0m\u001b[0;32mTrue\u001b[0m\u001b[0;34m)\u001b[0m\u001b[0;34m,\u001b[0m \u001b[0my\u001b[0m\u001b[0;34m=\u001b[0m\u001b[0mrevenue_data_specific\u001b[0m\u001b[0;34m.\u001b[0m\u001b[0mRevenue\u001b[0m\u001b[0;34m.\u001b[0m\u001b[0mastype\u001b[0m\u001b[0;34m(\u001b[0m\u001b[0;34m\"float\"\u001b[0m\u001b[0;34m)\u001b[0m\u001b[0;34m,\u001b[0m \u001b[0mname\u001b[0m\u001b[0;34m=\u001b[0m\u001b[0;34m\"Revenue\"\u001b[0m\u001b[0;34m)\u001b[0m\u001b[0;34m,\u001b[0m \u001b[0mrow\u001b[0m\u001b[0;34m=\u001b[0m\u001b[0;36m2\u001b[0m\u001b[0;34m,\u001b[0m \u001b[0mcol\u001b[0m\u001b[0;34m=\u001b[0m\u001b[0;36m1\u001b[0m\u001b[0;34m)\u001b[0m\u001b[0;34m\u001b[0m\u001b[0;34m\u001b[0m\u001b[0m\n\u001b[1;32m      7\u001b[0m     \u001b[0mfig\u001b[0m\u001b[0;34m.\u001b[0m\u001b[0mupdate_xaxes\u001b[0m\u001b[0;34m(\u001b[0m\u001b[0mtitle_text\u001b[0m\u001b[0;34m=\u001b[0m\u001b[0;34m\"Date\"\u001b[0m\u001b[0;34m,\u001b[0m \u001b[0mrow\u001b[0m\u001b[0;34m=\u001b[0m\u001b[0;36m1\u001b[0m\u001b[0;34m,\u001b[0m \u001b[0mcol\u001b[0m\u001b[0;34m=\u001b[0m\u001b[0;36m1\u001b[0m\u001b[0;34m)\u001b[0m\u001b[0;34m\u001b[0m\u001b[0;34m\u001b[0m\u001b[0m\n",
      "\u001b[0;32m/opt/anaconda3/lib/python3.11/site-packages/pandas/core/generic.py\u001b[0m in \u001b[0;36m?\u001b[0;34m(self, name)\u001b[0m\n\u001b[1;32m   6295\u001b[0m             \u001b[0;32mand\u001b[0m \u001b[0mname\u001b[0m \u001b[0;32mnot\u001b[0m \u001b[0;32min\u001b[0m \u001b[0mself\u001b[0m\u001b[0;34m.\u001b[0m\u001b[0m_accessors\u001b[0m\u001b[0;34m\u001b[0m\u001b[0;34m\u001b[0m\u001b[0m\n\u001b[1;32m   6296\u001b[0m             \u001b[0;32mand\u001b[0m \u001b[0mself\u001b[0m\u001b[0;34m.\u001b[0m\u001b[0m_info_axis\u001b[0m\u001b[0;34m.\u001b[0m\u001b[0m_can_hold_identifiers_and_holds_name\u001b[0m\u001b[0;34m(\u001b[0m\u001b[0mname\u001b[0m\u001b[0;34m)\u001b[0m\u001b[0;34m\u001b[0m\u001b[0;34m\u001b[0m\u001b[0m\n\u001b[1;32m   6297\u001b[0m         ):\n\u001b[1;32m   6298\u001b[0m             \u001b[0;32mreturn\u001b[0m \u001b[0mself\u001b[0m\u001b[0;34m[\u001b[0m\u001b[0mname\u001b[0m\u001b[0;34m]\u001b[0m\u001b[0;34m\u001b[0m\u001b[0;34m\u001b[0m\u001b[0m\n\u001b[0;32m-> 6299\u001b[0;31m         \u001b[0;32mreturn\u001b[0m \u001b[0mobject\u001b[0m\u001b[0;34m.\u001b[0m\u001b[0m__getattribute__\u001b[0m\u001b[0;34m(\u001b[0m\u001b[0mself\u001b[0m\u001b[0;34m,\u001b[0m \u001b[0mname\u001b[0m\u001b[0;34m)\u001b[0m\u001b[0;34m\u001b[0m\u001b[0;34m\u001b[0m\u001b[0m\n\u001b[0m",
      "\u001b[0;31mAttributeError\u001b[0m: 'DataFrame' object has no attribute 'Date'"
     ]
    }
   ],
   "source": [
    "make_graph(gme_data, gme_revenue, 'GameStop')"
   ]
  },
  {
   "cell_type": "code",
   "execution_count": null,
   "id": "98058957-9d74-450c-92e2-fb2bada80c22",
   "metadata": {},
   "outputs": [],
   "source": []
  }
 ],
 "metadata": {
  "kernelspec": {
   "display_name": "Python 3 (ipykernel)",
   "language": "python",
   "name": "python3"
  },
  "language_info": {
   "codemirror_mode": {
    "name": "ipython",
    "version": 3
   },
   "file_extension": ".py",
   "mimetype": "text/x-python",
   "name": "python",
   "nbconvert_exporter": "python",
   "pygments_lexer": "ipython3",
   "version": "3.11.7"
  }
 },
 "nbformat": 4,
 "nbformat_minor": 5
}
